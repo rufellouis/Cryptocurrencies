{
 "cells": [
  {
   "cell_type": "markdown",
   "metadata": {},
   "source": [
    "# Clustering Crypto"
   ]
  },
  {
   "cell_type": "code",
   "execution_count": 590,
   "metadata": {},
   "outputs": [],
   "source": [
    "# Initial imports\n",
    "#%matplotlib inline\n",
    "import pandas as pd\n",
    "import numpy\n",
    "#import hvplot\n",
    "from path import Path\n",
    "\n",
    "#import plotly\n",
    "#import plotly.express as px\n",
    "from sklearn.preprocessing import StandardScaler, MinMaxScaler\n",
    "from sklearn.decomposition import PCA\n",
    "from sklearn.cluster import KMeans\n"
   ]
  },
  {
   "cell_type": "markdown",
   "metadata": {},
   "source": [
    "### Deliverable 1: Preprocessing the Data for PCA"
   ]
  },
  {
   "cell_type": "code",
   "execution_count": 591,
   "metadata": {},
   "outputs": [
    {
     "data": {
      "text/html": [
       "<div>\n",
       "<style scoped>\n",
       "    .dataframe tbody tr th:only-of-type {\n",
       "        vertical-align: middle;\n",
       "    }\n",
       "\n",
       "    .dataframe tbody tr th {\n",
       "        vertical-align: top;\n",
       "    }\n",
       "\n",
       "    .dataframe thead th {\n",
       "        text-align: right;\n",
       "    }\n",
       "</style>\n",
       "<table border=\"1\" class=\"dataframe\">\n",
       "  <thead>\n",
       "    <tr style=\"text-align: right;\">\n",
       "      <th></th>\n",
       "      <th>Unnamed: 0</th>\n",
       "      <th>CoinName</th>\n",
       "      <th>Algorithm</th>\n",
       "      <th>IsTrading</th>\n",
       "      <th>ProofType</th>\n",
       "      <th>TotalCoinsMined</th>\n",
       "      <th>TotalCoinSupply</th>\n",
       "    </tr>\n",
       "  </thead>\n",
       "  <tbody>\n",
       "    <tr>\n",
       "      <th>0</th>\n",
       "      <td>42</td>\n",
       "      <td>42 Coin</td>\n",
       "      <td>Scrypt</td>\n",
       "      <td>True</td>\n",
       "      <td>PoW/PoS</td>\n",
       "      <td>4.199995e+01</td>\n",
       "      <td>42</td>\n",
       "    </tr>\n",
       "    <tr>\n",
       "      <th>1</th>\n",
       "      <td>365</td>\n",
       "      <td>365Coin</td>\n",
       "      <td>X11</td>\n",
       "      <td>True</td>\n",
       "      <td>PoW/PoS</td>\n",
       "      <td>NaN</td>\n",
       "      <td>2300000000</td>\n",
       "    </tr>\n",
       "    <tr>\n",
       "      <th>2</th>\n",
       "      <td>404</td>\n",
       "      <td>404Coin</td>\n",
       "      <td>Scrypt</td>\n",
       "      <td>True</td>\n",
       "      <td>PoW/PoS</td>\n",
       "      <td>1.055185e+09</td>\n",
       "      <td>532000000</td>\n",
       "    </tr>\n",
       "    <tr>\n",
       "      <th>3</th>\n",
       "      <td>611</td>\n",
       "      <td>SixEleven</td>\n",
       "      <td>SHA-256</td>\n",
       "      <td>True</td>\n",
       "      <td>PoW</td>\n",
       "      <td>NaN</td>\n",
       "      <td>611000</td>\n",
       "    </tr>\n",
       "    <tr>\n",
       "      <th>4</th>\n",
       "      <td>808</td>\n",
       "      <td>808</td>\n",
       "      <td>SHA-256</td>\n",
       "      <td>True</td>\n",
       "      <td>PoW/PoS</td>\n",
       "      <td>0.000000e+00</td>\n",
       "      <td>0</td>\n",
       "    </tr>\n",
       "  </tbody>\n",
       "</table>\n",
       "</div>"
      ],
      "text/plain": [
       "  Unnamed: 0   CoinName Algorithm  IsTrading ProofType  TotalCoinsMined  \\\n",
       "0         42    42 Coin    Scrypt       True   PoW/PoS     4.199995e+01   \n",
       "1        365    365Coin       X11       True   PoW/PoS              NaN   \n",
       "2        404    404Coin    Scrypt       True   PoW/PoS     1.055185e+09   \n",
       "3        611  SixEleven   SHA-256       True       PoW              NaN   \n",
       "4        808        808   SHA-256       True   PoW/PoS     0.000000e+00   \n",
       "\n",
       "  TotalCoinSupply  \n",
       "0              42  \n",
       "1      2300000000  \n",
       "2       532000000  \n",
       "3          611000  \n",
       "4               0  "
      ]
     },
     "execution_count": 591,
     "metadata": {},
     "output_type": "execute_result"
    }
   ],
   "source": [
    "# Load the crypto_data.csv dataset.\n",
    "df=pd.read_csv(\"crypto_data.csv\")\n",
    "df.head()"
   ]
  },
  {
   "cell_type": "code",
   "execution_count": 592,
   "metadata": {},
   "outputs": [
    {
     "data": {
      "text/plain": [
       "True     1144\n",
       "False     108\n",
       "Name: IsTrading, dtype: int64"
      ]
     },
     "execution_count": 592,
     "metadata": {},
     "output_type": "execute_result"
    }
   ],
   "source": [
    "df.IsTrading.value_counts()"
   ]
  },
  {
   "cell_type": "code",
   "execution_count": 593,
   "metadata": {},
   "outputs": [
    {
     "name": "stdout",
     "output_type": "stream",
     "text": [
      "(1144, 7)\n",
      "  Unnamed: 0   CoinName Algorithm  IsTrading ProofType  TotalCoinsMined  \\\n",
      "0         42    42 Coin    Scrypt       True   PoW/PoS     4.199995e+01   \n",
      "1        365    365Coin       X11       True   PoW/PoS              NaN   \n",
      "2        404    404Coin    Scrypt       True   PoW/PoS     1.055185e+09   \n",
      "3        611  SixEleven   SHA-256       True       PoW              NaN   \n",
      "4        808        808   SHA-256       True   PoW/PoS     0.000000e+00   \n",
      "\n",
      "  TotalCoinSupply  \n",
      "0              42  \n",
      "1      2300000000  \n",
      "2       532000000  \n",
      "3          611000  \n",
      "4               0  \n"
     ]
    }
   ],
   "source": [
    "# Keep all the cryptocurrencies that are being traded.\n",
    "\n",
    "# *************** MODULE 2, DELIVERABLE 1, 1st Requirement ***********************\n",
    "# All cryptocurrencies that are not being traded are removed\n",
    "# **********************************************************************************\n",
    "\n",
    "df_trading=df[df[\"IsTrading\"]==True].copy()\n",
    "#df_trading.rename_axis(None, inplace=True)\n",
    "print(df_trading.shape)\n",
    "print(df_trading.head())"
   ]
  },
  {
   "cell_type": "code",
   "execution_count": 594,
   "metadata": {},
   "outputs": [],
   "source": [
    "alg={}\n",
    "alg[\"algoriths\"]=df_trading.Algorithm\n",
    "df_alg=pd.DataFrame(alg)\n",
    "#df_alg.to_csv(\"algorithms.csv\", index=False)"
   ]
  },
  {
   "cell_type": "code",
   "execution_count": 595,
   "metadata": {},
   "outputs": [
    {
     "name": "stdout",
     "output_type": "stream",
     "text": [
      "<class 'pandas.core.frame.DataFrame'>\n",
      "Int64Index: 1144 entries, 0 to 1247\n",
      "Data columns (total 7 columns):\n",
      " #   Column           Non-Null Count  Dtype  \n",
      "---  ------           --------------  -----  \n",
      " 0   Unnamed: 0       1144 non-null   object \n",
      " 1   CoinName         1144 non-null   object \n",
      " 2   Algorithm        1144 non-null   object \n",
      " 3   IsTrading        1144 non-null   bool   \n",
      " 4   ProofType        1144 non-null   object \n",
      " 5   TotalCoinsMined  685 non-null    float64\n",
      " 6   TotalCoinSupply  1144 non-null   object \n",
      "dtypes: bool(1), float64(1), object(5)\n",
      "memory usage: 63.7+ KB\n"
     ]
    }
   ],
   "source": [
    "df_trading.info()\n"
   ]
  },
  {
   "cell_type": "code",
   "execution_count": 596,
   "metadata": {},
   "outputs": [
    {
     "name": "stdout",
     "output_type": "stream",
     "text": [
      "(1054, 7)\n"
     ]
    },
    {
     "data": {
      "text/html": [
       "<div>\n",
       "<style scoped>\n",
       "    .dataframe tbody tr th:only-of-type {\n",
       "        vertical-align: middle;\n",
       "    }\n",
       "\n",
       "    .dataframe tbody tr th {\n",
       "        vertical-align: top;\n",
       "    }\n",
       "\n",
       "    .dataframe thead th {\n",
       "        text-align: right;\n",
       "    }\n",
       "</style>\n",
       "<table border=\"1\" class=\"dataframe\">\n",
       "  <thead>\n",
       "    <tr style=\"text-align: right;\">\n",
       "      <th></th>\n",
       "      <th>CoinName</th>\n",
       "      <th>Algorithm</th>\n",
       "      <th>IsTrading</th>\n",
       "      <th>ProofType</th>\n",
       "      <th>TotalCoinsMined</th>\n",
       "      <th>TotalCoinSupply</th>\n",
       "    </tr>\n",
       "  </thead>\n",
       "  <tbody>\n",
       "    <tr>\n",
       "      <th>42</th>\n",
       "      <td>42 Coin</td>\n",
       "      <td>Scrypt</td>\n",
       "      <td>True</td>\n",
       "      <td>PoW/PoS</td>\n",
       "      <td>4.199995e+01</td>\n",
       "      <td>42</td>\n",
       "    </tr>\n",
       "    <tr>\n",
       "      <th>365</th>\n",
       "      <td>365Coin</td>\n",
       "      <td>X11</td>\n",
       "      <td>True</td>\n",
       "      <td>PoW/PoS</td>\n",
       "      <td>NaN</td>\n",
       "      <td>2300000000</td>\n",
       "    </tr>\n",
       "    <tr>\n",
       "      <th>404</th>\n",
       "      <td>404Coin</td>\n",
       "      <td>Scrypt</td>\n",
       "      <td>True</td>\n",
       "      <td>PoW/PoS</td>\n",
       "      <td>1.055185e+09</td>\n",
       "      <td>532000000</td>\n",
       "    </tr>\n",
       "    <tr>\n",
       "      <th>611</th>\n",
       "      <td>SixEleven</td>\n",
       "      <td>SHA-256</td>\n",
       "      <td>True</td>\n",
       "      <td>PoW</td>\n",
       "      <td>NaN</td>\n",
       "      <td>611000</td>\n",
       "    </tr>\n",
       "    <tr>\n",
       "      <th>1337</th>\n",
       "      <td>EliteCoin</td>\n",
       "      <td>X13</td>\n",
       "      <td>True</td>\n",
       "      <td>PoW/PoS</td>\n",
       "      <td>2.927942e+10</td>\n",
       "      <td>314159265359</td>\n",
       "    </tr>\n",
       "  </tbody>\n",
       "</table>\n",
       "</div>"
      ],
      "text/plain": [
       "       CoinName Algorithm  IsTrading ProofType  TotalCoinsMined  \\\n",
       "42      42 Coin    Scrypt       True   PoW/PoS     4.199995e+01   \n",
       "365     365Coin       X11       True   PoW/PoS              NaN   \n",
       "404     404Coin    Scrypt       True   PoW/PoS     1.055185e+09   \n",
       "611   SixEleven   SHA-256       True       PoW              NaN   \n",
       "1337  EliteCoin       X13       True   PoW/PoS     2.927942e+10   \n",
       "\n",
       "     TotalCoinSupply  \n",
       "42                42  \n",
       "365       2300000000  \n",
       "404        532000000  \n",
       "611           611000  \n",
       "1337    314159265359  "
      ]
     },
     "execution_count": 596,
     "metadata": {},
     "output_type": "execute_result"
    }
   ],
   "source": [
    "# Keep all the cryptocurrencies that have a working algorithm.\n",
    "\n",
    "# *************** MODULE 2, DELIVERABLE 1, 2nd Requirement ***********************\n",
    "# All cryptocurrencies that do not have a defined algorithm are removed\n",
    "# NOTE:  My own logic regarding this:  If a coin has no 'TotalCoinSupply', then the algorithm is NOT FUNCTIONING\n",
    "# **********************************************************************************\n",
    "\n",
    "df_trading2=df_trading[df_trading.TotalCoinSupply!=\"0\"].copy()\n",
    "print(df_trading2.shape)\n",
    "df_trading2.set_index([\"Unnamed: 0\"], inplace=True,  drop=True)\n",
    "df_trading2.rename_axis(None, inplace=True)\n",
    "df_trading2.head()"
   ]
  },
  {
   "cell_type": "code",
   "execution_count": 597,
   "metadata": {},
   "outputs": [
    {
     "name": "stdout",
     "output_type": "stream",
     "text": [
      "(1054, 5)\n"
     ]
    },
    {
     "data": {
      "text/html": [
       "<div>\n",
       "<style scoped>\n",
       "    .dataframe tbody tr th:only-of-type {\n",
       "        vertical-align: middle;\n",
       "    }\n",
       "\n",
       "    .dataframe tbody tr th {\n",
       "        vertical-align: top;\n",
       "    }\n",
       "\n",
       "    .dataframe thead th {\n",
       "        text-align: right;\n",
       "    }\n",
       "</style>\n",
       "<table border=\"1\" class=\"dataframe\">\n",
       "  <thead>\n",
       "    <tr style=\"text-align: right;\">\n",
       "      <th></th>\n",
       "      <th>CoinName</th>\n",
       "      <th>Algorithm</th>\n",
       "      <th>ProofType</th>\n",
       "      <th>TotalCoinsMined</th>\n",
       "      <th>TotalCoinSupply</th>\n",
       "    </tr>\n",
       "  </thead>\n",
       "  <tbody>\n",
       "    <tr>\n",
       "      <th>42</th>\n",
       "      <td>42 Coin</td>\n",
       "      <td>Scrypt</td>\n",
       "      <td>PoW/PoS</td>\n",
       "      <td>4.199995e+01</td>\n",
       "      <td>42</td>\n",
       "    </tr>\n",
       "    <tr>\n",
       "      <th>365</th>\n",
       "      <td>365Coin</td>\n",
       "      <td>X11</td>\n",
       "      <td>PoW/PoS</td>\n",
       "      <td>NaN</td>\n",
       "      <td>2300000000</td>\n",
       "    </tr>\n",
       "    <tr>\n",
       "      <th>404</th>\n",
       "      <td>404Coin</td>\n",
       "      <td>Scrypt</td>\n",
       "      <td>PoW/PoS</td>\n",
       "      <td>1.055185e+09</td>\n",
       "      <td>532000000</td>\n",
       "    </tr>\n",
       "    <tr>\n",
       "      <th>611</th>\n",
       "      <td>SixEleven</td>\n",
       "      <td>SHA-256</td>\n",
       "      <td>PoW</td>\n",
       "      <td>NaN</td>\n",
       "      <td>611000</td>\n",
       "    </tr>\n",
       "    <tr>\n",
       "      <th>1337</th>\n",
       "      <td>EliteCoin</td>\n",
       "      <td>X13</td>\n",
       "      <td>PoW/PoS</td>\n",
       "      <td>2.927942e+10</td>\n",
       "      <td>314159265359</td>\n",
       "    </tr>\n",
       "  </tbody>\n",
       "</table>\n",
       "</div>"
      ],
      "text/plain": [
       "       CoinName Algorithm ProofType  TotalCoinsMined TotalCoinSupply\n",
       "42      42 Coin    Scrypt   PoW/PoS     4.199995e+01              42\n",
       "365     365Coin       X11   PoW/PoS              NaN      2300000000\n",
       "404     404Coin    Scrypt   PoW/PoS     1.055185e+09       532000000\n",
       "611   SixEleven   SHA-256       PoW              NaN          611000\n",
       "1337  EliteCoin       X13   PoW/PoS     2.927942e+10    314159265359"
      ]
     },
     "execution_count": 597,
     "metadata": {},
     "output_type": "execute_result"
    }
   ],
   "source": [
    "# Remove the \"IsTrading\" column. \n",
    "\n",
    "# *************** MODULE 2, DELIVERABLE 1, 3rd Requirement ***********************\n",
    "# The IsTrading column is dropped\n",
    "# **********************************************************************************\n",
    "\n",
    "df_trading2.drop(columns=[\"IsTrading\"], inplace=True)\n",
    "print(df_trading2.shape)\n",
    "df_trading2.head()"
   ]
  },
  {
   "cell_type": "code",
   "execution_count": 598,
   "metadata": {},
   "outputs": [],
   "source": [
    "# Remove rows that have at least 1 null value.\n",
    "\n",
    "# *************** MODULE 2, DELIVERABLE 1, 4th Requirement ***********************\n",
    "# All the rows that contain null values are removed\n",
    "# **********************************************************************************\n",
    "\n",
    "df_trading2.dropna(inplace=True, )\n"
   ]
  },
  {
   "cell_type": "code",
   "execution_count": 599,
   "metadata": {},
   "outputs": [
    {
     "name": "stdout",
     "output_type": "stream",
     "text": [
      "(637, 5)\n"
     ]
    },
    {
     "data": {
      "text/html": [
       "<div>\n",
       "<style scoped>\n",
       "    .dataframe tbody tr th:only-of-type {\n",
       "        vertical-align: middle;\n",
       "    }\n",
       "\n",
       "    .dataframe tbody tr th {\n",
       "        vertical-align: top;\n",
       "    }\n",
       "\n",
       "    .dataframe thead th {\n",
       "        text-align: right;\n",
       "    }\n",
       "</style>\n",
       "<table border=\"1\" class=\"dataframe\">\n",
       "  <thead>\n",
       "    <tr style=\"text-align: right;\">\n",
       "      <th></th>\n",
       "      <th>CoinName</th>\n",
       "      <th>Algorithm</th>\n",
       "      <th>ProofType</th>\n",
       "      <th>TotalCoinsMined</th>\n",
       "      <th>TotalCoinSupply</th>\n",
       "    </tr>\n",
       "  </thead>\n",
       "  <tbody>\n",
       "    <tr>\n",
       "      <th>42</th>\n",
       "      <td>42 Coin</td>\n",
       "      <td>Scrypt</td>\n",
       "      <td>PoW/PoS</td>\n",
       "      <td>4.199995e+01</td>\n",
       "      <td>42</td>\n",
       "    </tr>\n",
       "    <tr>\n",
       "      <th>404</th>\n",
       "      <td>404Coin</td>\n",
       "      <td>Scrypt</td>\n",
       "      <td>PoW/PoS</td>\n",
       "      <td>1.055185e+09</td>\n",
       "      <td>532000000</td>\n",
       "    </tr>\n",
       "    <tr>\n",
       "      <th>1337</th>\n",
       "      <td>EliteCoin</td>\n",
       "      <td>X13</td>\n",
       "      <td>PoW/PoS</td>\n",
       "      <td>2.927942e+10</td>\n",
       "      <td>314159265359</td>\n",
       "    </tr>\n",
       "    <tr>\n",
       "      <th>BTC</th>\n",
       "      <td>Bitcoin</td>\n",
       "      <td>SHA-256</td>\n",
       "      <td>PoW</td>\n",
       "      <td>1.792718e+07</td>\n",
       "      <td>21000000</td>\n",
       "    </tr>\n",
       "    <tr>\n",
       "      <th>LTC</th>\n",
       "      <td>Litecoin</td>\n",
       "      <td>Scrypt</td>\n",
       "      <td>PoW</td>\n",
       "      <td>6.303924e+07</td>\n",
       "      <td>84000000</td>\n",
       "    </tr>\n",
       "  </tbody>\n",
       "</table>\n",
       "</div>"
      ],
      "text/plain": [
       "       CoinName Algorithm ProofType  TotalCoinsMined TotalCoinSupply\n",
       "42      42 Coin    Scrypt   PoW/PoS     4.199995e+01              42\n",
       "404     404Coin    Scrypt   PoW/PoS     1.055185e+09       532000000\n",
       "1337  EliteCoin       X13   PoW/PoS     2.927942e+10    314159265359\n",
       "BTC     Bitcoin   SHA-256       PoW     1.792718e+07        21000000\n",
       "LTC    Litecoin    Scrypt       PoW     6.303924e+07        84000000"
      ]
     },
     "execution_count": 599,
     "metadata": {},
     "output_type": "execute_result"
    }
   ],
   "source": [
    "print(df_trading2.shape)\n",
    "df_trading2.head()"
   ]
  },
  {
   "cell_type": "code",
   "execution_count": 600,
   "metadata": {},
   "outputs": [
    {
     "data": {
      "text/plain": [
       "(497, 5)"
      ]
     },
     "execution_count": 600,
     "metadata": {},
     "output_type": "execute_result"
    }
   ],
   "source": [
    "# Keep the rows where coins are mined.\n",
    "\n",
    "# *************** MODULE 2, DELIVERABLE 1, 5th Requirement ***********************\n",
    "# All the rows that do not have coins being mined are removed\n",
    "# **********************************************************************************\n",
    "\n",
    "df_cleaned=df_trading2[df_trading2[\"TotalCoinsMined\"]>0].copy()\n",
    "df_cleaned.shape"
   ]
  },
  {
   "cell_type": "code",
   "execution_count": 601,
   "metadata": {},
   "outputs": [
    {
     "data": {
      "text/plain": [
       "42        42 Coin\n",
       "404       404Coin\n",
       "1337    EliteCoin\n",
       "BTC       Bitcoin\n",
       "LTC      Litecoin\n",
       "Name: CoinName, dtype: object"
      ]
     },
     "execution_count": 601,
     "metadata": {},
     "output_type": "execute_result"
    }
   ],
   "source": [
    "# Create a new DataFrame that holds only the cryptocurrencies names.\n",
    "# *************** MODULE 2, DELIVERABLE 1, 7th Requirement ***********************\n",
    "# A new DataFrame is created that stores all  cryptocurrency names from the CoinName column \n",
    "# and retains the index from the crypto_df DataFrame\n",
    "# **********************************************************************************\n",
    "\n",
    "df_coins=df_cleaned.iloc[:, 0].copy()\n",
    "df_coins.head()"
   ]
  },
  {
   "cell_type": "code",
   "execution_count": 602,
   "metadata": {},
   "outputs": [
    {
     "data": {
      "text/html": [
       "<div>\n",
       "<style scoped>\n",
       "    .dataframe tbody tr th:only-of-type {\n",
       "        vertical-align: middle;\n",
       "    }\n",
       "\n",
       "    .dataframe tbody tr th {\n",
       "        vertical-align: top;\n",
       "    }\n",
       "\n",
       "    .dataframe thead th {\n",
       "        text-align: right;\n",
       "    }\n",
       "</style>\n",
       "<table border=\"1\" class=\"dataframe\">\n",
       "  <thead>\n",
       "    <tr style=\"text-align: right;\">\n",
       "      <th></th>\n",
       "      <th>Algorithm</th>\n",
       "      <th>ProofType</th>\n",
       "      <th>TotalCoinsMined</th>\n",
       "      <th>TotalCoinSupply</th>\n",
       "    </tr>\n",
       "  </thead>\n",
       "  <tbody>\n",
       "    <tr>\n",
       "      <th>42</th>\n",
       "      <td>Scrypt</td>\n",
       "      <td>PoW/PoS</td>\n",
       "      <td>4.199995e+01</td>\n",
       "      <td>42</td>\n",
       "    </tr>\n",
       "    <tr>\n",
       "      <th>404</th>\n",
       "      <td>Scrypt</td>\n",
       "      <td>PoW/PoS</td>\n",
       "      <td>1.055185e+09</td>\n",
       "      <td>532000000</td>\n",
       "    </tr>\n",
       "    <tr>\n",
       "      <th>1337</th>\n",
       "      <td>X13</td>\n",
       "      <td>PoW/PoS</td>\n",
       "      <td>2.927942e+10</td>\n",
       "      <td>314159265359</td>\n",
       "    </tr>\n",
       "    <tr>\n",
       "      <th>BTC</th>\n",
       "      <td>SHA-256</td>\n",
       "      <td>PoW</td>\n",
       "      <td>1.792718e+07</td>\n",
       "      <td>21000000</td>\n",
       "    </tr>\n",
       "    <tr>\n",
       "      <th>LTC</th>\n",
       "      <td>Scrypt</td>\n",
       "      <td>PoW</td>\n",
       "      <td>6.303924e+07</td>\n",
       "      <td>84000000</td>\n",
       "    </tr>\n",
       "  </tbody>\n",
       "</table>\n",
       "</div>"
      ],
      "text/plain": [
       "     Algorithm ProofType  TotalCoinsMined TotalCoinSupply\n",
       "42      Scrypt   PoW/PoS     4.199995e+01              42\n",
       "404     Scrypt   PoW/PoS     1.055185e+09       532000000\n",
       "1337       X13   PoW/PoS     2.927942e+10    314159265359\n",
       "BTC    SHA-256       PoW     1.792718e+07        21000000\n",
       "LTC     Scrypt       PoW     6.303924e+07        84000000"
      ]
     },
     "execution_count": 602,
     "metadata": {},
     "output_type": "execute_result"
    }
   ],
   "source": [
    "# Drop the 'CoinName' column since it's not going to be used on the clustering algorithm.\n",
    "\n",
    "# *************** MODULE 2, DELIVERABLE 1, 6th Requirement ***********************\n",
    "# The CoinName column is dropped\n",
    "# **********************************************************************************\n",
    "\n",
    "\n",
    "\n",
    "df_cleaned.drop(columns=[\"CoinName\"], inplace=True)\n",
    "#df_trading2.drop(columns=[\"IsTrading\"], inplace=True)\n",
    "df_cleaned.rename_axis(None, inplace=True)\n",
    "df_cleaned.head()"
   ]
  },
  {
   "cell_type": "code",
   "execution_count": 603,
   "metadata": {},
   "outputs": [
    {
     "name": "stdout",
     "output_type": "stream",
     "text": [
      "<class 'pandas.core.frame.DataFrame'>\n",
      "Index: 497 entries, 42 to XBC\n",
      "Data columns (total 4 columns):\n",
      " #   Column           Non-Null Count  Dtype  \n",
      "---  ------           --------------  -----  \n",
      " 0   Algorithm        497 non-null    object \n",
      " 1   ProofType        497 non-null    object \n",
      " 2   TotalCoinsMined  497 non-null    float64\n",
      " 3   TotalCoinSupply  497 non-null    object \n",
      "dtypes: float64(1), object(3)\n",
      "memory usage: 19.4+ KB\n"
     ]
    }
   ],
   "source": [
    "df_cleaned.info()"
   ]
  },
  {
   "cell_type": "code",
   "execution_count": 604,
   "metadata": {},
   "outputs": [
    {
     "name": "stdout",
     "output_type": "stream",
     "text": [
      "(497,)\n",
      "(497,)\n"
     ]
    }
   ],
   "source": [
    "supply=df_cleaned[\"TotalCoinSupply\"].str.replace(\" \", \"\").copy()\n",
    "supply2=df_cleaned[\"TotalCoinsMined\"].copy()\n",
    "print(supply.shape)\n",
    "print(supply2.shape)"
   ]
  },
  {
   "cell_type": "code",
   "execution_count": 605,
   "metadata": {},
   "outputs": [
    {
     "name": "stdout",
     "output_type": "stream",
     "text": [
      "(497,)\n",
      "(497,)\n"
     ]
    }
   ],
   "source": [
    "import numpy as np\n",
    "sup_array=np.array(supply.values.tolist())\n",
    "sup_array2=np.array(supply2.values.tolist())\n",
    "print(sup_array.shape)\n",
    "print(sup_array2.shape)"
   ]
  },
  {
   "cell_type": "code",
   "execution_count": 606,
   "metadata": {},
   "outputs": [],
   "source": [
    "sup_array.reshape(-1, 1)\n",
    "sup_array2.reshape(-1, 1)\n",
    "df_array1=pd.DataFrame(sup_array, columns=[\"TotalCoinSupply\"])"
   ]
  },
  {
   "cell_type": "code",
   "execution_count": 607,
   "metadata": {},
   "outputs": [],
   "source": [
    "df_array2=pd.DataFrame(sup_array2, columns=[\"TotalCoinsMined\"])"
   ]
  },
  {
   "cell_type": "code",
   "execution_count": 608,
   "metadata": {},
   "outputs": [
    {
     "data": {
      "text/plain": [
       "(497, 2)"
      ]
     },
     "execution_count": 608,
     "metadata": {},
     "output_type": "execute_result"
    }
   ],
   "source": [
    "df_floats=pd.concat([df_array1, df_array2], axis=1)\n",
    "df_floats.shape"
   ]
  },
  {
   "cell_type": "code",
   "execution_count": 609,
   "metadata": {},
   "outputs": [
    {
     "data": {
      "text/html": [
       "<div>\n",
       "<style scoped>\n",
       "    .dataframe tbody tr th:only-of-type {\n",
       "        vertical-align: middle;\n",
       "    }\n",
       "\n",
       "    .dataframe tbody tr th {\n",
       "        vertical-align: top;\n",
       "    }\n",
       "\n",
       "    .dataframe thead th {\n",
       "        text-align: right;\n",
       "    }\n",
       "</style>\n",
       "<table border=\"1\" class=\"dataframe\">\n",
       "  <thead>\n",
       "    <tr style=\"text-align: right;\">\n",
       "      <th></th>\n",
       "      <th>TotalCoinSupply</th>\n",
       "      <th>TotalCoinsMined</th>\n",
       "    </tr>\n",
       "  </thead>\n",
       "  <tbody>\n",
       "    <tr>\n",
       "      <th>0</th>\n",
       "      <td>42</td>\n",
       "      <td>4.199995e+01</td>\n",
       "    </tr>\n",
       "    <tr>\n",
       "      <th>1</th>\n",
       "      <td>532000000</td>\n",
       "      <td>1.055185e+09</td>\n",
       "    </tr>\n",
       "    <tr>\n",
       "      <th>2</th>\n",
       "      <td>314159265359</td>\n",
       "      <td>2.927942e+10</td>\n",
       "    </tr>\n",
       "    <tr>\n",
       "      <th>3</th>\n",
       "      <td>21000000</td>\n",
       "      <td>1.792718e+07</td>\n",
       "    </tr>\n",
       "    <tr>\n",
       "      <th>4</th>\n",
       "      <td>84000000</td>\n",
       "      <td>6.303924e+07</td>\n",
       "    </tr>\n",
       "  </tbody>\n",
       "</table>\n",
       "</div>"
      ],
      "text/plain": [
       "  TotalCoinSupply  TotalCoinsMined\n",
       "0              42     4.199995e+01\n",
       "1       532000000     1.055185e+09\n",
       "2    314159265359     2.927942e+10\n",
       "3        21000000     1.792718e+07\n",
       "4        84000000     6.303924e+07"
      ]
     },
     "execution_count": 609,
     "metadata": {},
     "output_type": "execute_result"
    }
   ],
   "source": [
    "df_floats.head()"
   ]
  },
  {
   "cell_type": "code",
   "execution_count": null,
   "metadata": {},
   "outputs": [],
   "source": []
  },
  {
   "cell_type": "code",
   "execution_count": 610,
   "metadata": {},
   "outputs": [
    {
     "data": {
      "text/plain": [
       "(497, 2)"
      ]
     },
     "execution_count": 610,
     "metadata": {},
     "output_type": "execute_result"
    }
   ],
   "source": [
    "# Standardize the data with StandardScaler().\n",
    "from sklearn.preprocessing import StandardScaler\n",
    "\n",
    "scaler = StandardScaler()\n",
    "df_scaled=scaler.fit_transform(df_floats)\n",
    "df_scaled.shape"
   ]
  },
  {
   "cell_type": "code",
   "execution_count": 611,
   "metadata": {},
   "outputs": [
    {
     "data": {
      "text/plain": [
       "(497, 2)"
      ]
     },
     "execution_count": 611,
     "metadata": {},
     "output_type": "execute_result"
    }
   ],
   "source": [
    "df_scaled=pd.DataFrame(df_scaled, columns=[\"TotalCoinSupply\", \"TotalCoinsMined\"])\n",
    "df_scaled.shape"
   ]
  },
  {
   "cell_type": "code",
   "execution_count": 612,
   "metadata": {},
   "outputs": [
    {
     "data": {
      "text/html": [
       "<div>\n",
       "<style scoped>\n",
       "    .dataframe tbody tr th:only-of-type {\n",
       "        vertical-align: middle;\n",
       "    }\n",
       "\n",
       "    .dataframe tbody tr th {\n",
       "        vertical-align: top;\n",
       "    }\n",
       "\n",
       "    .dataframe thead th {\n",
       "        text-align: right;\n",
       "    }\n",
       "</style>\n",
       "<table border=\"1\" class=\"dataframe\">\n",
       "  <thead>\n",
       "    <tr style=\"text-align: right;\">\n",
       "      <th></th>\n",
       "      <th>TotalCoinSupply</th>\n",
       "      <th>TotalCoinsMined</th>\n",
       "    </tr>\n",
       "  </thead>\n",
       "  <tbody>\n",
       "    <tr>\n",
       "      <th>0</th>\n",
       "      <td>-0.158292</td>\n",
       "      <td>-0.111155</td>\n",
       "    </tr>\n",
       "    <tr>\n",
       "      <th>1</th>\n",
       "      <td>-0.150687</td>\n",
       "      <td>-0.088570</td>\n",
       "    </tr>\n",
       "    <tr>\n",
       "      <th>2</th>\n",
       "      <td>4.332395</td>\n",
       "      <td>0.515537</td>\n",
       "    </tr>\n",
       "    <tr>\n",
       "      <th>3</th>\n",
       "      <td>-0.157992</td>\n",
       "      <td>-0.110771</td>\n",
       "    </tr>\n",
       "    <tr>\n",
       "      <th>4</th>\n",
       "      <td>-0.157091</td>\n",
       "      <td>-0.109805</td>\n",
       "    </tr>\n",
       "  </tbody>\n",
       "</table>\n",
       "</div>"
      ],
      "text/plain": [
       "   TotalCoinSupply  TotalCoinsMined\n",
       "0        -0.158292        -0.111155\n",
       "1        -0.150687        -0.088570\n",
       "2         4.332395         0.515537\n",
       "3        -0.157992        -0.110771\n",
       "4        -0.157091        -0.109805"
      ]
     },
     "execution_count": 612,
     "metadata": {},
     "output_type": "execute_result"
    }
   ],
   "source": [
    "df_scaled.head()"
   ]
  },
  {
   "cell_type": "code",
   "execution_count": 613,
   "metadata": {},
   "outputs": [
    {
     "data": {
      "text/plain": [
       "(497, 2)"
      ]
     },
     "execution_count": 613,
     "metadata": {},
     "output_type": "execute_result"
    }
   ],
   "source": [
    "df_objs=df_cleaned[[\"Algorithm\", \"ProofType\"]].copy()\n",
    "df_objs.rename_axis(None, inplace=True)\n",
    "df_objs.shape"
   ]
  },
  {
   "cell_type": "code",
   "execution_count": 614,
   "metadata": {},
   "outputs": [],
   "source": [
    "#df_objs.reset_index(inplace=True, drop=True)"
   ]
  },
  {
   "cell_type": "code",
   "execution_count": 615,
   "metadata": {},
   "outputs": [
    {
     "data": {
      "text/html": [
       "<div>\n",
       "<style scoped>\n",
       "    .dataframe tbody tr th:only-of-type {\n",
       "        vertical-align: middle;\n",
       "    }\n",
       "\n",
       "    .dataframe tbody tr th {\n",
       "        vertical-align: top;\n",
       "    }\n",
       "\n",
       "    .dataframe thead th {\n",
       "        text-align: right;\n",
       "    }\n",
       "</style>\n",
       "<table border=\"1\" class=\"dataframe\">\n",
       "  <thead>\n",
       "    <tr style=\"text-align: right;\">\n",
       "      <th></th>\n",
       "      <th>Algorithm</th>\n",
       "      <th>ProofType</th>\n",
       "    </tr>\n",
       "  </thead>\n",
       "  <tbody>\n",
       "    <tr>\n",
       "      <th>42</th>\n",
       "      <td>Scrypt</td>\n",
       "      <td>PoW/PoS</td>\n",
       "    </tr>\n",
       "    <tr>\n",
       "      <th>404</th>\n",
       "      <td>Scrypt</td>\n",
       "      <td>PoW/PoS</td>\n",
       "    </tr>\n",
       "    <tr>\n",
       "      <th>1337</th>\n",
       "      <td>X13</td>\n",
       "      <td>PoW/PoS</td>\n",
       "    </tr>\n",
       "    <tr>\n",
       "      <th>BTC</th>\n",
       "      <td>SHA-256</td>\n",
       "      <td>PoW</td>\n",
       "    </tr>\n",
       "    <tr>\n",
       "      <th>LTC</th>\n",
       "      <td>Scrypt</td>\n",
       "      <td>PoW</td>\n",
       "    </tr>\n",
       "  </tbody>\n",
       "</table>\n",
       "</div>"
      ],
      "text/plain": [
       "     Algorithm ProofType\n",
       "42      Scrypt   PoW/PoS\n",
       "404     Scrypt   PoW/PoS\n",
       "1337       X13   PoW/PoS\n",
       "BTC    SHA-256       PoW\n",
       "LTC     Scrypt       PoW"
      ]
     },
     "execution_count": 615,
     "metadata": {},
     "output_type": "execute_result"
    }
   ],
   "source": [
    "df_objs.head()"
   ]
  },
  {
   "cell_type": "code",
   "execution_count": 616,
   "metadata": {},
   "outputs": [
    {
     "data": {
      "text/html": [
       "<div>\n",
       "<style scoped>\n",
       "    .dataframe tbody tr th:only-of-type {\n",
       "        vertical-align: middle;\n",
       "    }\n",
       "\n",
       "    .dataframe tbody tr th {\n",
       "        vertical-align: top;\n",
       "    }\n",
       "\n",
       "    .dataframe thead th {\n",
       "        text-align: right;\n",
       "    }\n",
       "</style>\n",
       "<table border=\"1\" class=\"dataframe\">\n",
       "  <thead>\n",
       "    <tr style=\"text-align: right;\">\n",
       "      <th></th>\n",
       "      <th>Algorithm</th>\n",
       "      <th>ProofType</th>\n",
       "    </tr>\n",
       "  </thead>\n",
       "  <tbody>\n",
       "    <tr>\n",
       "      <th>ZEPH</th>\n",
       "      <td>SHA-256</td>\n",
       "      <td>DPoS</td>\n",
       "    </tr>\n",
       "    <tr>\n",
       "      <th>GAP</th>\n",
       "      <td>Scrypt</td>\n",
       "      <td>PoW/PoS</td>\n",
       "    </tr>\n",
       "    <tr>\n",
       "      <th>BDX</th>\n",
       "      <td>CryptoNight</td>\n",
       "      <td>PoW</td>\n",
       "    </tr>\n",
       "    <tr>\n",
       "      <th>ZEN</th>\n",
       "      <td>Equihash</td>\n",
       "      <td>PoW</td>\n",
       "    </tr>\n",
       "    <tr>\n",
       "      <th>XBC</th>\n",
       "      <td>Scrypt</td>\n",
       "      <td>PoS</td>\n",
       "    </tr>\n",
       "  </tbody>\n",
       "</table>\n",
       "</div>"
      ],
      "text/plain": [
       "        Algorithm ProofType\n",
       "ZEPH      SHA-256      DPoS\n",
       "GAP        Scrypt   PoW/PoS\n",
       "BDX   CryptoNight       PoW\n",
       "ZEN      Equihash       PoW\n",
       "XBC        Scrypt       PoS"
      ]
     },
     "execution_count": 616,
     "metadata": {},
     "output_type": "execute_result"
    }
   ],
   "source": [
    "df_objs.tail()"
   ]
  },
  {
   "cell_type": "code",
   "execution_count": 617,
   "metadata": {},
   "outputs": [],
   "source": [
    "#df_ready=pd.concat([df_objs, df_scaled], axis=1)\n"
   ]
  },
  {
   "cell_type": "code",
   "execution_count": 618,
   "metadata": {},
   "outputs": [],
   "source": [
    "#df_ready.shape"
   ]
  },
  {
   "cell_type": "code",
   "execution_count": 619,
   "metadata": {},
   "outputs": [],
   "source": [
    "df_final=df_objs.copy()"
   ]
  },
  {
   "cell_type": "code",
   "execution_count": 620,
   "metadata": {},
   "outputs": [],
   "source": [
    "df_final[\"TotalCoinSupply\"]=df_scaled[\"TotalCoinSupply\"].copy().to_list()"
   ]
  },
  {
   "cell_type": "code",
   "execution_count": 621,
   "metadata": {},
   "outputs": [],
   "source": [
    "df_final[\"TotalCoinsMined\"]=df_scaled[\"TotalCoinsMined\"].copy().to_list()"
   ]
  },
  {
   "cell_type": "code",
   "execution_count": 622,
   "metadata": {},
   "outputs": [
    {
     "data": {
      "text/plain": [
       "(497, 4)"
      ]
     },
     "execution_count": 622,
     "metadata": {},
     "output_type": "execute_result"
    }
   ],
   "source": [
    "df_final.shape"
   ]
  },
  {
   "cell_type": "code",
   "execution_count": 623,
   "metadata": {},
   "outputs": [
    {
     "data": {
      "text/html": [
       "<div>\n",
       "<style scoped>\n",
       "    .dataframe tbody tr th:only-of-type {\n",
       "        vertical-align: middle;\n",
       "    }\n",
       "\n",
       "    .dataframe tbody tr th {\n",
       "        vertical-align: top;\n",
       "    }\n",
       "\n",
       "    .dataframe thead th {\n",
       "        text-align: right;\n",
       "    }\n",
       "</style>\n",
       "<table border=\"1\" class=\"dataframe\">\n",
       "  <thead>\n",
       "    <tr style=\"text-align: right;\">\n",
       "      <th></th>\n",
       "      <th>Algorithm</th>\n",
       "      <th>ProofType</th>\n",
       "      <th>TotalCoinSupply</th>\n",
       "      <th>TotalCoinsMined</th>\n",
       "    </tr>\n",
       "  </thead>\n",
       "  <tbody>\n",
       "    <tr>\n",
       "      <th>42</th>\n",
       "      <td>Scrypt</td>\n",
       "      <td>PoW/PoS</td>\n",
       "      <td>-0.158292</td>\n",
       "      <td>-0.111155</td>\n",
       "    </tr>\n",
       "    <tr>\n",
       "      <th>404</th>\n",
       "      <td>Scrypt</td>\n",
       "      <td>PoW/PoS</td>\n",
       "      <td>-0.150687</td>\n",
       "      <td>-0.088570</td>\n",
       "    </tr>\n",
       "    <tr>\n",
       "      <th>1337</th>\n",
       "      <td>X13</td>\n",
       "      <td>PoW/PoS</td>\n",
       "      <td>4.332395</td>\n",
       "      <td>0.515537</td>\n",
       "    </tr>\n",
       "    <tr>\n",
       "      <th>BTC</th>\n",
       "      <td>SHA-256</td>\n",
       "      <td>PoW</td>\n",
       "      <td>-0.157992</td>\n",
       "      <td>-0.110771</td>\n",
       "    </tr>\n",
       "    <tr>\n",
       "      <th>LTC</th>\n",
       "      <td>Scrypt</td>\n",
       "      <td>PoW</td>\n",
       "      <td>-0.157091</td>\n",
       "      <td>-0.109805</td>\n",
       "    </tr>\n",
       "  </tbody>\n",
       "</table>\n",
       "</div>"
      ],
      "text/plain": [
       "     Algorithm ProofType  TotalCoinSupply  TotalCoinsMined\n",
       "42      Scrypt   PoW/PoS        -0.158292        -0.111155\n",
       "404     Scrypt   PoW/PoS        -0.150687        -0.088570\n",
       "1337       X13   PoW/PoS         4.332395         0.515537\n",
       "BTC    SHA-256       PoW        -0.157992        -0.110771\n",
       "LTC     Scrypt       PoW        -0.157091        -0.109805"
      ]
     },
     "execution_count": 623,
     "metadata": {},
     "output_type": "execute_result"
    }
   ],
   "source": [
    "df_final.head()"
   ]
  },
  {
   "cell_type": "code",
   "execution_count": 624,
   "metadata": {},
   "outputs": [],
   "source": [
    "# Use get_dummies() to create variables for text features.\n",
    "x=pd.get_dummies(df_objs)\n",
    "#df_dumms=pd.get_dummies(df_final)"
   ]
  },
  {
   "cell_type": "code",
   "execution_count": 625,
   "metadata": {},
   "outputs": [
    {
     "data": {
      "text/html": [
       "<div>\n",
       "<style scoped>\n",
       "    .dataframe tbody tr th:only-of-type {\n",
       "        vertical-align: middle;\n",
       "    }\n",
       "\n",
       "    .dataframe tbody tr th {\n",
       "        vertical-align: top;\n",
       "    }\n",
       "\n",
       "    .dataframe thead th {\n",
       "        text-align: right;\n",
       "    }\n",
       "</style>\n",
       "<table border=\"1\" class=\"dataframe\">\n",
       "  <thead>\n",
       "    <tr style=\"text-align: right;\">\n",
       "      <th></th>\n",
       "      <th>Algorithm_1GB AES Pattern Search</th>\n",
       "      <th>Algorithm_536</th>\n",
       "      <th>Algorithm_BLAKE256</th>\n",
       "      <th>Algorithm_Blake</th>\n",
       "      <th>Algorithm_Blake2S</th>\n",
       "      <th>Algorithm_Blake2b</th>\n",
       "      <th>Algorithm_C11</th>\n",
       "      <th>Algorithm_Cloverhash</th>\n",
       "      <th>Algorithm_Counterparty</th>\n",
       "      <th>Algorithm_CryptoNight</th>\n",
       "      <th>...</th>\n",
       "      <th>ProofType_PoW/PoS</th>\n",
       "      <th>ProofType_PoW/PoS</th>\n",
       "      <th>ProofType_PoW/PoW</th>\n",
       "      <th>ProofType_PoW/nPoS</th>\n",
       "      <th>ProofType_Pos</th>\n",
       "      <th>ProofType_Proof of Authority</th>\n",
       "      <th>ProofType_Proof of Trust</th>\n",
       "      <th>ProofType_TPoS</th>\n",
       "      <th>ProofType_Zero-Knowledge Proof</th>\n",
       "      <th>ProofType_dPoW/PoW</th>\n",
       "    </tr>\n",
       "  </thead>\n",
       "  <tbody>\n",
       "    <tr>\n",
       "      <th>42</th>\n",
       "      <td>0</td>\n",
       "      <td>0</td>\n",
       "      <td>0</td>\n",
       "      <td>0</td>\n",
       "      <td>0</td>\n",
       "      <td>0</td>\n",
       "      <td>0</td>\n",
       "      <td>0</td>\n",
       "      <td>0</td>\n",
       "      <td>0</td>\n",
       "      <td>...</td>\n",
       "      <td>1</td>\n",
       "      <td>0</td>\n",
       "      <td>0</td>\n",
       "      <td>0</td>\n",
       "      <td>0</td>\n",
       "      <td>0</td>\n",
       "      <td>0</td>\n",
       "      <td>0</td>\n",
       "      <td>0</td>\n",
       "      <td>0</td>\n",
       "    </tr>\n",
       "    <tr>\n",
       "      <th>404</th>\n",
       "      <td>0</td>\n",
       "      <td>0</td>\n",
       "      <td>0</td>\n",
       "      <td>0</td>\n",
       "      <td>0</td>\n",
       "      <td>0</td>\n",
       "      <td>0</td>\n",
       "      <td>0</td>\n",
       "      <td>0</td>\n",
       "      <td>0</td>\n",
       "      <td>...</td>\n",
       "      <td>1</td>\n",
       "      <td>0</td>\n",
       "      <td>0</td>\n",
       "      <td>0</td>\n",
       "      <td>0</td>\n",
       "      <td>0</td>\n",
       "      <td>0</td>\n",
       "      <td>0</td>\n",
       "      <td>0</td>\n",
       "      <td>0</td>\n",
       "    </tr>\n",
       "    <tr>\n",
       "      <th>1337</th>\n",
       "      <td>0</td>\n",
       "      <td>0</td>\n",
       "      <td>0</td>\n",
       "      <td>0</td>\n",
       "      <td>0</td>\n",
       "      <td>0</td>\n",
       "      <td>0</td>\n",
       "      <td>0</td>\n",
       "      <td>0</td>\n",
       "      <td>0</td>\n",
       "      <td>...</td>\n",
       "      <td>1</td>\n",
       "      <td>0</td>\n",
       "      <td>0</td>\n",
       "      <td>0</td>\n",
       "      <td>0</td>\n",
       "      <td>0</td>\n",
       "      <td>0</td>\n",
       "      <td>0</td>\n",
       "      <td>0</td>\n",
       "      <td>0</td>\n",
       "    </tr>\n",
       "    <tr>\n",
       "      <th>BTC</th>\n",
       "      <td>0</td>\n",
       "      <td>0</td>\n",
       "      <td>0</td>\n",
       "      <td>0</td>\n",
       "      <td>0</td>\n",
       "      <td>0</td>\n",
       "      <td>0</td>\n",
       "      <td>0</td>\n",
       "      <td>0</td>\n",
       "      <td>0</td>\n",
       "      <td>...</td>\n",
       "      <td>0</td>\n",
       "      <td>0</td>\n",
       "      <td>0</td>\n",
       "      <td>0</td>\n",
       "      <td>0</td>\n",
       "      <td>0</td>\n",
       "      <td>0</td>\n",
       "      <td>0</td>\n",
       "      <td>0</td>\n",
       "      <td>0</td>\n",
       "    </tr>\n",
       "    <tr>\n",
       "      <th>LTC</th>\n",
       "      <td>0</td>\n",
       "      <td>0</td>\n",
       "      <td>0</td>\n",
       "      <td>0</td>\n",
       "      <td>0</td>\n",
       "      <td>0</td>\n",
       "      <td>0</td>\n",
       "      <td>0</td>\n",
       "      <td>0</td>\n",
       "      <td>0</td>\n",
       "      <td>...</td>\n",
       "      <td>0</td>\n",
       "      <td>0</td>\n",
       "      <td>0</td>\n",
       "      <td>0</td>\n",
       "      <td>0</td>\n",
       "      <td>0</td>\n",
       "      <td>0</td>\n",
       "      <td>0</td>\n",
       "      <td>0</td>\n",
       "      <td>0</td>\n",
       "    </tr>\n",
       "  </tbody>\n",
       "</table>\n",
       "<p>5 rows × 93 columns</p>\n",
       "</div>"
      ],
      "text/plain": [
       "      Algorithm_1GB AES Pattern Search  Algorithm_536  Algorithm_BLAKE256  \\\n",
       "42                                   0              0                   0   \n",
       "404                                  0              0                   0   \n",
       "1337                                 0              0                   0   \n",
       "BTC                                  0              0                   0   \n",
       "LTC                                  0              0                   0   \n",
       "\n",
       "      Algorithm_Blake  Algorithm_Blake2S  Algorithm_Blake2b  Algorithm_C11  \\\n",
       "42                  0                  0                  0              0   \n",
       "404                 0                  0                  0              0   \n",
       "1337                0                  0                  0              0   \n",
       "BTC                 0                  0                  0              0   \n",
       "LTC                 0                  0                  0              0   \n",
       "\n",
       "      Algorithm_Cloverhash  Algorithm_Counterparty  Algorithm_CryptoNight  \\\n",
       "42                       0                       0                      0   \n",
       "404                      0                       0                      0   \n",
       "1337                     0                       0                      0   \n",
       "BTC                      0                       0                      0   \n",
       "LTC                      0                       0                      0   \n",
       "\n",
       "      ...  ProofType_PoW/PoS  ProofType_PoW/PoS   ProofType_PoW/PoW  \\\n",
       "42    ...                  1                   0                  0   \n",
       "404   ...                  1                   0                  0   \n",
       "1337  ...                  1                   0                  0   \n",
       "BTC   ...                  0                   0                  0   \n",
       "LTC   ...                  0                   0                  0   \n",
       "\n",
       "      ProofType_PoW/nPoS  ProofType_Pos  ProofType_Proof of Authority  \\\n",
       "42                     0              0                             0   \n",
       "404                    0              0                             0   \n",
       "1337                   0              0                             0   \n",
       "BTC                    0              0                             0   \n",
       "LTC                    0              0                             0   \n",
       "\n",
       "      ProofType_Proof of Trust  ProofType_TPoS  \\\n",
       "42                           0               0   \n",
       "404                          0               0   \n",
       "1337                         0               0   \n",
       "BTC                          0               0   \n",
       "LTC                          0               0   \n",
       "\n",
       "      ProofType_Zero-Knowledge Proof  ProofType_dPoW/PoW  \n",
       "42                                 0                   0  \n",
       "404                                0                   0  \n",
       "1337                               0                   0  \n",
       "BTC                                0                   0  \n",
       "LTC                                0                   0  \n",
       "\n",
       "[5 rows x 93 columns]"
      ]
     },
     "execution_count": 625,
     "metadata": {},
     "output_type": "execute_result"
    }
   ],
   "source": [
    "# *************** MODULE 2, DELIVERABLE 1, 8th Requirement ***********************\n",
    "# The get_dummies() method is used to create variables for the text features, which are then stored in a new DataFrame, 'x'\n",
    "# **********************************************************************************\n",
    "\n",
    "x.rename_axis(None, inplace=True)\n",
    "x.head()"
   ]
  },
  {
   "cell_type": "code",
   "execution_count": 626,
   "metadata": {},
   "outputs": [
    {
     "data": {
      "text/plain": [
       "(497, 93)"
      ]
     },
     "execution_count": 626,
     "metadata": {},
     "output_type": "execute_result"
    }
   ],
   "source": [
    "# *************** MODULE 2, DELIVERABLE 1, 9th Requirement ***********************\n",
    "# The features from the 'x' DataFrame have been standardized using the StandardScaler fit_tranform() function\n",
    "\n",
    "df_scaled_x=scaler.fit_transform(x)\n",
    "df_scaled_x.shape"
   ]
  },
  {
   "cell_type": "code",
   "execution_count": 627,
   "metadata": {},
   "outputs": [
    {
     "data": {
      "text/plain": [
       "array([[-0.04490133, -0.04490133, -0.06356417, -0.07792865, -0.04490133,\n",
       "        -0.04490133, -0.06356417, -0.04490133, -0.04490133, -0.1993714 ,\n",
       "        -0.06356417, -0.09007547, -0.04490133, -0.10080973, -0.07792865,\n",
       "        -0.04490133, -0.04490133, -0.15729675, -0.04490133, -0.1279059 ,\n",
       "        -0.04490133, -0.04490133, -0.07792865, -0.04490133, -0.04490133,\n",
       "        -0.04490133, -0.04490133, -0.06356417, -0.04490133, -0.09007547,\n",
       "        -0.09007547, -0.09007547, -0.04490133, -0.11952286, -0.13580362,\n",
       "        -0.14329648, -0.04490133, -0.06356417, -0.04490133, -0.07792865,\n",
       "        -0.1823843 , -0.04490133, -0.04490133, -0.04490133, -0.06356417,\n",
       "        -0.16388869, -0.32696213, -0.04490133, -0.09007547, -0.07792865,\n",
       "        -0.06356417,  1.39313618, -0.04490133, -0.04490133, -0.06356417,\n",
       "        -0.04490133, -0.04490133, -0.04490133, -0.04490133, -0.04490133,\n",
       "        -0.04490133, -0.04490133, -0.04490133, -0.39132116, -0.04490133,\n",
       "        -0.17025131, -0.04490133, -0.09007547, -0.09007547, -0.11054392,\n",
       "        -0.04490133, -0.11952286, -0.04490133, -0.04490133, -0.04490133,\n",
       "        -0.04490133, -0.07792865, -0.43145975, -0.04490133, -0.04490133,\n",
       "        -0.92437958, -0.04490133, -0.04490133,  1.4380199 , -0.04490133,\n",
       "        -0.04490133, -0.04490133, -0.04490133, -0.04490133, -0.04490133,\n",
       "        -0.04490133, -0.04490133, -0.04490133],\n",
       "       [-0.04490133, -0.04490133, -0.06356417, -0.07792865, -0.04490133,\n",
       "        -0.04490133, -0.06356417, -0.04490133, -0.04490133, -0.1993714 ,\n",
       "        -0.06356417, -0.09007547, -0.04490133, -0.10080973, -0.07792865,\n",
       "        -0.04490133, -0.04490133, -0.15729675, -0.04490133, -0.1279059 ,\n",
       "        -0.04490133, -0.04490133, -0.07792865, -0.04490133, -0.04490133,\n",
       "        -0.04490133, -0.04490133, -0.06356417, -0.04490133, -0.09007547,\n",
       "        -0.09007547, -0.09007547, -0.04490133, -0.11952286, -0.13580362,\n",
       "        -0.14329648, -0.04490133, -0.06356417, -0.04490133, -0.07792865,\n",
       "        -0.1823843 , -0.04490133, -0.04490133, -0.04490133, -0.06356417,\n",
       "        -0.16388869, -0.32696213, -0.04490133, -0.09007547, -0.07792865,\n",
       "        -0.06356417,  1.39313618, -0.04490133, -0.04490133, -0.06356417,\n",
       "        -0.04490133, -0.04490133, -0.04490133, -0.04490133, -0.04490133,\n",
       "        -0.04490133, -0.04490133, -0.04490133, -0.39132116, -0.04490133,\n",
       "        -0.17025131, -0.04490133, -0.09007547, -0.09007547, -0.11054392,\n",
       "        -0.04490133, -0.11952286, -0.04490133, -0.04490133, -0.04490133,\n",
       "        -0.04490133, -0.07792865, -0.43145975, -0.04490133, -0.04490133,\n",
       "        -0.92437958, -0.04490133, -0.04490133,  1.4380199 , -0.04490133,\n",
       "        -0.04490133, -0.04490133, -0.04490133, -0.04490133, -0.04490133,\n",
       "        -0.04490133, -0.04490133, -0.04490133],\n",
       "       [-0.04490133, -0.04490133, -0.06356417, -0.07792865, -0.04490133,\n",
       "        -0.04490133, -0.06356417, -0.04490133, -0.04490133, -0.1993714 ,\n",
       "        -0.06356417, -0.09007547, -0.04490133, -0.10080973, -0.07792865,\n",
       "        -0.04490133, -0.04490133, -0.15729675, -0.04490133, -0.1279059 ,\n",
       "        -0.04490133, -0.04490133, -0.07792865, -0.04490133, -0.04490133,\n",
       "        -0.04490133, -0.04490133, -0.06356417, -0.04490133, -0.09007547,\n",
       "        -0.09007547, -0.09007547, -0.04490133, -0.11952286, -0.13580362,\n",
       "        -0.14329648, -0.04490133, -0.06356417, -0.04490133, -0.07792865,\n",
       "        -0.1823843 , -0.04490133, -0.04490133, -0.04490133, -0.06356417,\n",
       "        -0.16388869, -0.32696213, -0.04490133, -0.09007547, -0.07792865,\n",
       "        -0.06356417, -0.71780492, -0.04490133, -0.04490133, -0.06356417,\n",
       "        -0.04490133, -0.04490133, -0.04490133, -0.04490133, -0.04490133,\n",
       "        -0.04490133, -0.04490133, -0.04490133, -0.39132116, -0.04490133,\n",
       "         5.87367006, -0.04490133, -0.09007547, -0.09007547, -0.11054392,\n",
       "        -0.04490133, -0.11952286, -0.04490133, -0.04490133, -0.04490133,\n",
       "        -0.04490133, -0.07792865, -0.43145975, -0.04490133, -0.04490133,\n",
       "        -0.92437958, -0.04490133, -0.04490133,  1.4380199 , -0.04490133,\n",
       "        -0.04490133, -0.04490133, -0.04490133, -0.04490133, -0.04490133,\n",
       "        -0.04490133, -0.04490133, -0.04490133],\n",
       "       [-0.04490133, -0.04490133, -0.06356417, -0.07792865, -0.04490133,\n",
       "        -0.04490133, -0.06356417, -0.04490133, -0.04490133, -0.1993714 ,\n",
       "        -0.06356417, -0.09007547, -0.04490133, -0.10080973, -0.07792865,\n",
       "        -0.04490133, -0.04490133, -0.15729675, -0.04490133, -0.1279059 ,\n",
       "        -0.04490133, -0.04490133, -0.07792865, -0.04490133, -0.04490133,\n",
       "        -0.04490133, -0.04490133, -0.06356417, -0.04490133, -0.09007547,\n",
       "        -0.09007547, -0.09007547, -0.04490133, -0.11952286, -0.13580362,\n",
       "        -0.14329648, -0.04490133, -0.06356417, -0.04490133, -0.07792865,\n",
       "        -0.1823843 , -0.04490133, -0.04490133, -0.04490133, -0.06356417,\n",
       "        -0.16388869,  3.05845822, -0.04490133, -0.09007547, -0.07792865,\n",
       "        -0.06356417, -0.71780492, -0.04490133, -0.04490133, -0.06356417,\n",
       "        -0.04490133, -0.04490133, -0.04490133, -0.04490133, -0.04490133,\n",
       "        -0.04490133, -0.04490133, -0.04490133, -0.39132116, -0.04490133,\n",
       "        -0.17025131, -0.04490133, -0.09007547, -0.09007547, -0.11054392,\n",
       "        -0.04490133, -0.11952286, -0.04490133, -0.04490133, -0.04490133,\n",
       "        -0.04490133, -0.07792865, -0.43145975, -0.04490133, -0.04490133,\n",
       "         1.08180667, -0.04490133, -0.04490133, -0.69540067, -0.04490133,\n",
       "        -0.04490133, -0.04490133, -0.04490133, -0.04490133, -0.04490133,\n",
       "        -0.04490133, -0.04490133, -0.04490133],\n",
       "       [-0.04490133, -0.04490133, -0.06356417, -0.07792865, -0.04490133,\n",
       "        -0.04490133, -0.06356417, -0.04490133, -0.04490133, -0.1993714 ,\n",
       "        -0.06356417, -0.09007547, -0.04490133, -0.10080973, -0.07792865,\n",
       "        -0.04490133, -0.04490133, -0.15729675, -0.04490133, -0.1279059 ,\n",
       "        -0.04490133, -0.04490133, -0.07792865, -0.04490133, -0.04490133,\n",
       "        -0.04490133, -0.04490133, -0.06356417, -0.04490133, -0.09007547,\n",
       "        -0.09007547, -0.09007547, -0.04490133, -0.11952286, -0.13580362,\n",
       "        -0.14329648, -0.04490133, -0.06356417, -0.04490133, -0.07792865,\n",
       "        -0.1823843 , -0.04490133, -0.04490133, -0.04490133, -0.06356417,\n",
       "        -0.16388869, -0.32696213, -0.04490133, -0.09007547, -0.07792865,\n",
       "        -0.06356417,  1.39313618, -0.04490133, -0.04490133, -0.06356417,\n",
       "        -0.04490133, -0.04490133, -0.04490133, -0.04490133, -0.04490133,\n",
       "        -0.04490133, -0.04490133, -0.04490133, -0.39132116, -0.04490133,\n",
       "        -0.17025131, -0.04490133, -0.09007547, -0.09007547, -0.11054392,\n",
       "        -0.04490133, -0.11952286, -0.04490133, -0.04490133, -0.04490133,\n",
       "        -0.04490133, -0.07792865, -0.43145975, -0.04490133, -0.04490133,\n",
       "         1.08180667, -0.04490133, -0.04490133, -0.69540067, -0.04490133,\n",
       "        -0.04490133, -0.04490133, -0.04490133, -0.04490133, -0.04490133,\n",
       "        -0.04490133, -0.04490133, -0.04490133]])"
      ]
     },
     "execution_count": 627,
     "metadata": {},
     "output_type": "execute_result"
    }
   ],
   "source": [
    "df_scaled_x[0:5]"
   ]
  },
  {
   "cell_type": "code",
   "execution_count": 628,
   "metadata": {},
   "outputs": [],
   "source": [
    "#df_dumms.shape"
   ]
  },
  {
   "cell_type": "code",
   "execution_count": 629,
   "metadata": {},
   "outputs": [],
   "source": [
    "#df_dumms.head()"
   ]
  },
  {
   "cell_type": "markdown",
   "metadata": {},
   "source": [
    "### Deliverable 2: Reducing Data Dimensions Using PCA"
   ]
  },
  {
   "cell_type": "code",
   "execution_count": 630,
   "metadata": {},
   "outputs": [],
   "source": [
    "# Using PCA to reduce dimension to three principal components.\n",
    "pca = PCA(n_components=3)\n",
    "x_pca = pca.fit_transform(df_scaled_x)"
   ]
  },
  {
   "cell_type": "code",
   "execution_count": 631,
   "metadata": {},
   "outputs": [
    {
     "data": {
      "text/html": [
       "<div>\n",
       "<style scoped>\n",
       "    .dataframe tbody tr th:only-of-type {\n",
       "        vertical-align: middle;\n",
       "    }\n",
       "\n",
       "    .dataframe tbody tr th {\n",
       "        vertical-align: top;\n",
       "    }\n",
       "\n",
       "    .dataframe thead th {\n",
       "        text-align: right;\n",
       "    }\n",
       "</style>\n",
       "<table border=\"1\" class=\"dataframe\">\n",
       "  <thead>\n",
       "    <tr style=\"text-align: right;\">\n",
       "      <th></th>\n",
       "      <th>PC 1</th>\n",
       "      <th>PC 2</th>\n",
       "      <th>PC 3</th>\n",
       "    </tr>\n",
       "  </thead>\n",
       "  <tbody>\n",
       "    <tr>\n",
       "      <th>0</th>\n",
       "      <td>0.942874</td>\n",
       "      <td>-0.671728</td>\n",
       "      <td>1.507996e-13</td>\n",
       "    </tr>\n",
       "    <tr>\n",
       "      <th>1</th>\n",
       "      <td>0.942874</td>\n",
       "      <td>-0.671728</td>\n",
       "      <td>1.525089e-13</td>\n",
       "    </tr>\n",
       "    <tr>\n",
       "      <th>2</th>\n",
       "      <td>1.757483</td>\n",
       "      <td>-0.753220</td>\n",
       "      <td>1.661281e-13</td>\n",
       "    </tr>\n",
       "    <tr>\n",
       "      <th>3</th>\n",
       "      <td>-1.245490</td>\n",
       "      <td>0.230854</td>\n",
       "      <td>-4.966065e-14</td>\n",
       "    </tr>\n",
       "    <tr>\n",
       "      <th>4</th>\n",
       "      <td>-1.155742</td>\n",
       "      <td>0.021646</td>\n",
       "      <td>-9.303957e-16</td>\n",
       "    </tr>\n",
       "  </tbody>\n",
       "</table>\n",
       "</div>"
      ],
      "text/plain": [
       "       PC 1      PC 2          PC 3\n",
       "0  0.942874 -0.671728  1.507996e-13\n",
       "1  0.942874 -0.671728  1.525089e-13\n",
       "2  1.757483 -0.753220  1.661281e-13\n",
       "3 -1.245490  0.230854 -4.966065e-14\n",
       "4 -1.155742  0.021646 -9.303957e-16"
      ]
     },
     "execution_count": 631,
     "metadata": {},
     "output_type": "execute_result"
    }
   ],
   "source": [
    "# Create a DataFrame with the three principal components.\n",
    "\n",
    "# *************** MODULE 2, DELIVERABLE 2, 1st Requirement ***********************\n",
    "# The PCA algorithm reduces the dimensions of the 'x' DataFrame down to 3 principal components\n",
    "# **********************************************************************************\n",
    "\n",
    "pcs_df=pd.DataFrame(data=x_pca, columns=[\"PC 1\", \"PC 2\", \"PC 3\"])\n",
    "pcs_df.head()"
   ]
  },
  {
   "cell_type": "code",
   "execution_count": null,
   "metadata": {},
   "outputs": [],
   "source": []
  },
  {
   "cell_type": "code",
   "execution_count": 632,
   "metadata": {},
   "outputs": [],
   "source": [
    "ind=x.index"
   ]
  },
  {
   "cell_type": "code",
   "execution_count": 633,
   "metadata": {},
   "outputs": [
    {
     "data": {
      "text/plain": [
       "pandas.core.indexes.base.Index"
      ]
     },
     "execution_count": 633,
     "metadata": {},
     "output_type": "execute_result"
    }
   ],
   "source": [
    "type(ind)"
   ]
  },
  {
   "cell_type": "code",
   "execution_count": 634,
   "metadata": {},
   "outputs": [
    {
     "data": {
      "text/html": [
       "<div>\n",
       "<style scoped>\n",
       "    .dataframe tbody tr th:only-of-type {\n",
       "        vertical-align: middle;\n",
       "    }\n",
       "\n",
       "    .dataframe tbody tr th {\n",
       "        vertical-align: top;\n",
       "    }\n",
       "\n",
       "    .dataframe thead th {\n",
       "        text-align: right;\n",
       "    }\n",
       "</style>\n",
       "<table border=\"1\" class=\"dataframe\">\n",
       "  <thead>\n",
       "    <tr style=\"text-align: right;\">\n",
       "      <th></th>\n",
       "      <th>PC 1</th>\n",
       "      <th>PC 2</th>\n",
       "      <th>PC 3</th>\n",
       "    </tr>\n",
       "  </thead>\n",
       "  <tbody>\n",
       "    <tr>\n",
       "      <th>42</th>\n",
       "      <td>0.942874</td>\n",
       "      <td>-0.671728</td>\n",
       "      <td>1.507996e-13</td>\n",
       "    </tr>\n",
       "    <tr>\n",
       "      <th>404</th>\n",
       "      <td>0.942874</td>\n",
       "      <td>-0.671728</td>\n",
       "      <td>1.525089e-13</td>\n",
       "    </tr>\n",
       "    <tr>\n",
       "      <th>1337</th>\n",
       "      <td>1.757483</td>\n",
       "      <td>-0.753220</td>\n",
       "      <td>1.661281e-13</td>\n",
       "    </tr>\n",
       "    <tr>\n",
       "      <th>BTC</th>\n",
       "      <td>-1.245490</td>\n",
       "      <td>0.230854</td>\n",
       "      <td>-4.966065e-14</td>\n",
       "    </tr>\n",
       "    <tr>\n",
       "      <th>LTC</th>\n",
       "      <td>-1.155742</td>\n",
       "      <td>0.021646</td>\n",
       "      <td>-9.303957e-16</td>\n",
       "    </tr>\n",
       "  </tbody>\n",
       "</table>\n",
       "</div>"
      ],
      "text/plain": [
       "          PC 1      PC 2          PC 3\n",
       "42    0.942874 -0.671728  1.507996e-13\n",
       "404   0.942874 -0.671728  1.525089e-13\n",
       "1337  1.757483 -0.753220  1.661281e-13\n",
       "BTC  -1.245490  0.230854 -4.966065e-14\n",
       "LTC  -1.155742  0.021646 -9.303957e-16"
      ]
     },
     "execution_count": 634,
     "metadata": {},
     "output_type": "execute_result"
    }
   ],
   "source": [
    "# *************** MODULE 2, DELIVERABLE 2, 2nd Requirement ***********************\n",
    "# The pcs_df DataFrame is created and has the following 3 columns PC 1, PC 2, PC 3\n",
    "# and has the index from the crypto_df DataFrame\n",
    "# **********************************************************************************\n",
    "\n",
    "\n",
    "pcs_df.set_index(ind, inplace=True)\n",
    "\n",
    "pcs_df.rename_axis(None, inplace=True)\n",
    "pcs_df.head()"
   ]
  },
  {
   "cell_type": "markdown",
   "metadata": {},
   "source": [
    "### Deliverable 3: Clustering Crytocurrencies Using K-Means\n",
    "\n",
    "#### Finding the Best Value for `k` Using the Elbow Curve"
   ]
  },
  {
   "cell_type": "code",
   "execution_count": 635,
   "metadata": {},
   "outputs": [
    {
     "name": "stderr",
     "output_type": "stream",
     "text": [
      "C:\\Users\\E7470\\Anaconda3\\lib\\site-packages\\sklearn\\cluster\\_kmeans.py:881: UserWarning: KMeans is known to have a memory leak on Windows with MKL, when there are less chunks than available threads. You can avoid it by setting the environment variable OMP_NUM_THREADS=2.\n",
      "  warnings.warn(\n"
     ]
    }
   ],
   "source": [
    "inertia=[]\n",
    "K=range(1,10)\n",
    "for k in K:\n",
    "    kmeanModel=KMeans(n_clusters=k)\n",
    "    kmeanModel.fit(pcs_df)\n",
    "    inertia.append(kmeanModel.inertia_)\n",
    "\n"
   ]
  },
  {
   "cell_type": "code",
   "execution_count": 636,
   "metadata": {},
   "outputs": [],
   "source": [
    "from matplotlib import pyplot as plt"
   ]
  },
  {
   "cell_type": "code",
   "execution_count": 637,
   "metadata": {},
   "outputs": [
    {
     "data": {
      "image/png": "[encoded data removed]",
      "text/plain": [
       "<Figure size 1152x576 with 1 Axes>"
      ]
     },
     "metadata": {
      "needs_background": "light"
     },
     "output_type": "display_data"
    }
   ],
   "source": [
    "# Create an elbow curve to find the best value for K.\n",
    "\n",
    "# *************** MODULE 2, DELIVERABLE 3, 1st Requirement ***********************\n",
    "# Create an elbow curve (but my systems would not allow hvplot) in matplotlib\n",
    "# **********************************************************************************\n",
    "\n",
    "plt.figure(figsize=(16,8))\n",
    "plt.plot(K, inertia, 'bx-')\n",
    "plt.xlabel('k')\n",
    "plt.ylabel('Inertia')\n",
    "plt.title('Elbow Graph')\n",
    "plt.show()"
   ]
  },
  {
   "cell_type": "markdown",
   "metadata": {},
   "source": [
    "Running K-Means with `k=4`"
   ]
  },
  {
   "cell_type": "code",
   "execution_count": 638,
   "metadata": {},
   "outputs": [],
   "source": [
    "# Initialize the K-Means model.\n",
    "\n",
    "kmeanModel=KMeans(n_clusters=4)\n",
    "\n",
    "# Fit the model\n",
    "kmeanModel.fit(pcs_df)\n",
    "\n",
    "# Predict clusters\n",
    "\n",
    "# *************** MODULE 2, DELIVERABLE 3, 2nd Requirement ***********************\n",
    "# Predictions are made on the K clusters of the cryptocurrencies’ data\n",
    "# **********************************************************************************\n",
    " \n",
    "predictions = kmeanModel.predict(pcs_df)"
   ]
  },
  {
   "cell_type": "code",
   "execution_count": 639,
   "metadata": {},
   "outputs": [
    {
     "data": {
      "text/html": [
       "<div>\n",
       "<style scoped>\n",
       "    .dataframe tbody tr th:only-of-type {\n",
       "        vertical-align: middle;\n",
       "    }\n",
       "\n",
       "    .dataframe tbody tr th {\n",
       "        vertical-align: top;\n",
       "    }\n",
       "\n",
       "    .dataframe thead th {\n",
       "        text-align: right;\n",
       "    }\n",
       "</style>\n",
       "<table border=\"1\" class=\"dataframe\">\n",
       "  <thead>\n",
       "    <tr style=\"text-align: right;\">\n",
       "      <th></th>\n",
       "      <th>PC 1</th>\n",
       "      <th>PC 2</th>\n",
       "      <th>PC 3</th>\n",
       "    </tr>\n",
       "  </thead>\n",
       "  <tbody>\n",
       "    <tr>\n",
       "      <th>42</th>\n",
       "      <td>0.942874</td>\n",
       "      <td>-0.671728</td>\n",
       "      <td>1.507996e-13</td>\n",
       "    </tr>\n",
       "    <tr>\n",
       "      <th>404</th>\n",
       "      <td>0.942874</td>\n",
       "      <td>-0.671728</td>\n",
       "      <td>1.525089e-13</td>\n",
       "    </tr>\n",
       "    <tr>\n",
       "      <th>1337</th>\n",
       "      <td>1.757483</td>\n",
       "      <td>-0.753220</td>\n",
       "      <td>1.661281e-13</td>\n",
       "    </tr>\n",
       "    <tr>\n",
       "      <th>BTC</th>\n",
       "      <td>-1.245490</td>\n",
       "      <td>0.230854</td>\n",
       "      <td>-4.966065e-14</td>\n",
       "    </tr>\n",
       "    <tr>\n",
       "      <th>LTC</th>\n",
       "      <td>-1.155742</td>\n",
       "      <td>0.021646</td>\n",
       "      <td>-9.303957e-16</td>\n",
       "    </tr>\n",
       "  </tbody>\n",
       "</table>\n",
       "</div>"
      ],
      "text/plain": [
       "          PC 1      PC 2          PC 3\n",
       "42    0.942874 -0.671728  1.507996e-13\n",
       "404   0.942874 -0.671728  1.525089e-13\n",
       "1337  1.757483 -0.753220  1.661281e-13\n",
       "BTC  -1.245490  0.230854 -4.966065e-14\n",
       "LTC  -1.155742  0.021646 -9.303957e-16"
      ]
     },
     "execution_count": 639,
     "metadata": {},
     "output_type": "execute_result"
    }
   ],
   "source": [
    "pcs_df.head()"
   ]
  },
  {
   "cell_type": "code",
   "execution_count": 640,
   "metadata": {},
   "outputs": [
    {
     "data": {
      "text/plain": [
       "(497, 3)"
      ]
     },
     "execution_count": 640,
     "metadata": {},
     "output_type": "execute_result"
    }
   ],
   "source": [
    "pcs_df.shape"
   ]
  },
  {
   "cell_type": "code",
   "execution_count": 641,
   "metadata": {},
   "outputs": [
    {
     "data": {
      "text/plain": [
       "(497, 4)"
      ]
     },
     "execution_count": 641,
     "metadata": {},
     "output_type": "execute_result"
    }
   ],
   "source": [
    "df_final.shape"
   ]
  },
  {
   "cell_type": "code",
   "execution_count": 642,
   "metadata": {},
   "outputs": [
    {
     "data": {
      "text/html": [
       "<div>\n",
       "<style scoped>\n",
       "    .dataframe tbody tr th:only-of-type {\n",
       "        vertical-align: middle;\n",
       "    }\n",
       "\n",
       "    .dataframe tbody tr th {\n",
       "        vertical-align: top;\n",
       "    }\n",
       "\n",
       "    .dataframe thead th {\n",
       "        text-align: right;\n",
       "    }\n",
       "</style>\n",
       "<table border=\"1\" class=\"dataframe\">\n",
       "  <thead>\n",
       "    <tr style=\"text-align: right;\">\n",
       "      <th></th>\n",
       "      <th>Algorithm</th>\n",
       "      <th>ProofType</th>\n",
       "      <th>TotalCoinSupply</th>\n",
       "      <th>TotalCoinsMined</th>\n",
       "    </tr>\n",
       "  </thead>\n",
       "  <tbody>\n",
       "    <tr>\n",
       "      <th>42</th>\n",
       "      <td>Scrypt</td>\n",
       "      <td>PoW/PoS</td>\n",
       "      <td>-0.158292</td>\n",
       "      <td>-0.111155</td>\n",
       "    </tr>\n",
       "    <tr>\n",
       "      <th>404</th>\n",
       "      <td>Scrypt</td>\n",
       "      <td>PoW/PoS</td>\n",
       "      <td>-0.150687</td>\n",
       "      <td>-0.088570</td>\n",
       "    </tr>\n",
       "    <tr>\n",
       "      <th>1337</th>\n",
       "      <td>X13</td>\n",
       "      <td>PoW/PoS</td>\n",
       "      <td>4.332395</td>\n",
       "      <td>0.515537</td>\n",
       "    </tr>\n",
       "    <tr>\n",
       "      <th>BTC</th>\n",
       "      <td>SHA-256</td>\n",
       "      <td>PoW</td>\n",
       "      <td>-0.157992</td>\n",
       "      <td>-0.110771</td>\n",
       "    </tr>\n",
       "    <tr>\n",
       "      <th>LTC</th>\n",
       "      <td>Scrypt</td>\n",
       "      <td>PoW</td>\n",
       "      <td>-0.157091</td>\n",
       "      <td>-0.109805</td>\n",
       "    </tr>\n",
       "  </tbody>\n",
       "</table>\n",
       "</div>"
      ],
      "text/plain": [
       "     Algorithm ProofType  TotalCoinSupply  TotalCoinsMined\n",
       "42      Scrypt   PoW/PoS        -0.158292        -0.111155\n",
       "404     Scrypt   PoW/PoS        -0.150687        -0.088570\n",
       "1337       X13   PoW/PoS         4.332395         0.515537\n",
       "BTC    SHA-256       PoW        -0.157992        -0.110771\n",
       "LTC     Scrypt       PoW        -0.157091        -0.109805"
      ]
     },
     "execution_count": 642,
     "metadata": {},
     "output_type": "execute_result"
    }
   ],
   "source": [
    "df_final.head()"
   ]
  },
  {
   "cell_type": "code",
   "execution_count": 643,
   "metadata": {},
   "outputs": [
    {
     "data": {
      "text/html": [
       "<div>\n",
       "<style scoped>\n",
       "    .dataframe tbody tr th:only-of-type {\n",
       "        vertical-align: middle;\n",
       "    }\n",
       "\n",
       "    .dataframe tbody tr th {\n",
       "        vertical-align: top;\n",
       "    }\n",
       "\n",
       "    .dataframe thead th {\n",
       "        text-align: right;\n",
       "    }\n",
       "</style>\n",
       "<table border=\"1\" class=\"dataframe\">\n",
       "  <thead>\n",
       "    <tr style=\"text-align: right;\">\n",
       "      <th></th>\n",
       "      <th>Unnamed: 0</th>\n",
       "      <th>CoinName</th>\n",
       "      <th>Algorithm</th>\n",
       "      <th>IsTrading</th>\n",
       "      <th>ProofType</th>\n",
       "      <th>TotalCoinsMined</th>\n",
       "      <th>TotalCoinSupply</th>\n",
       "    </tr>\n",
       "  </thead>\n",
       "  <tbody>\n",
       "    <tr>\n",
       "      <th>0</th>\n",
       "      <td>42</td>\n",
       "      <td>42 Coin</td>\n",
       "      <td>Scrypt</td>\n",
       "      <td>True</td>\n",
       "      <td>PoW/PoS</td>\n",
       "      <td>4.199995e+01</td>\n",
       "      <td>42</td>\n",
       "    </tr>\n",
       "    <tr>\n",
       "      <th>1</th>\n",
       "      <td>365</td>\n",
       "      <td>365Coin</td>\n",
       "      <td>X11</td>\n",
       "      <td>True</td>\n",
       "      <td>PoW/PoS</td>\n",
       "      <td>NaN</td>\n",
       "      <td>2300000000</td>\n",
       "    </tr>\n",
       "    <tr>\n",
       "      <th>2</th>\n",
       "      <td>404</td>\n",
       "      <td>404Coin</td>\n",
       "      <td>Scrypt</td>\n",
       "      <td>True</td>\n",
       "      <td>PoW/PoS</td>\n",
       "      <td>1.055185e+09</td>\n",
       "      <td>532000000</td>\n",
       "    </tr>\n",
       "    <tr>\n",
       "      <th>3</th>\n",
       "      <td>611</td>\n",
       "      <td>SixEleven</td>\n",
       "      <td>SHA-256</td>\n",
       "      <td>True</td>\n",
       "      <td>PoW</td>\n",
       "      <td>NaN</td>\n",
       "      <td>611000</td>\n",
       "    </tr>\n",
       "    <tr>\n",
       "      <th>4</th>\n",
       "      <td>808</td>\n",
       "      <td>808</td>\n",
       "      <td>SHA-256</td>\n",
       "      <td>True</td>\n",
       "      <td>PoW/PoS</td>\n",
       "      <td>0.000000e+00</td>\n",
       "      <td>0</td>\n",
       "    </tr>\n",
       "  </tbody>\n",
       "</table>\n",
       "</div>"
      ],
      "text/plain": [
       "  Unnamed: 0   CoinName Algorithm  IsTrading ProofType  TotalCoinsMined  \\\n",
       "0         42    42 Coin    Scrypt       True   PoW/PoS     4.199995e+01   \n",
       "1        365    365Coin       X11       True   PoW/PoS              NaN   \n",
       "2        404    404Coin    Scrypt       True   PoW/PoS     1.055185e+09   \n",
       "3        611  SixEleven   SHA-256       True       PoW              NaN   \n",
       "4        808        808   SHA-256       True   PoW/PoS     0.000000e+00   \n",
       "\n",
       "  TotalCoinSupply  \n",
       "0              42  \n",
       "1      2300000000  \n",
       "2       532000000  \n",
       "3          611000  \n",
       "4               0  "
      ]
     },
     "execution_count": 643,
     "metadata": {},
     "output_type": "execute_result"
    }
   ],
   "source": [
    "df.head()"
   ]
  },
  {
   "cell_type": "code",
   "execution_count": 644,
   "metadata": {},
   "outputs": [],
   "source": [
    "df_raw=df.set_index([\"Unnamed: 0\"], inplace=True,  drop=True)\n",
    "df_raw=df.rename_axis(None, inplace=True)"
   ]
  },
  {
   "cell_type": "code",
   "execution_count": 650,
   "metadata": {},
   "outputs": [
    {
     "name": "stdout",
     "output_type": "stream",
     "text": [
      "(497, 9)\n",
      "          PC 1      PC 2          PC 3   CoinName Algorithm  IsTrading  \\\n",
      "42    0.942874 -0.671728  1.507996e-13    42 Coin    Scrypt       True   \n",
      "404   0.942874 -0.671728  1.525089e-13    404Coin    Scrypt       True   \n",
      "1337  1.757483 -0.753220  1.661281e-13  EliteCoin       X13       True   \n",
      "BTC  -1.245490  0.230854 -4.966065e-14    Bitcoin   SHA-256       True   \n",
      "LTC  -1.155742  0.021646 -9.303957e-16   Litecoin    Scrypt       True   \n",
      "\n",
      "     ProofType  TotalCoinsMined TotalCoinSupply  \n",
      "42     PoW/PoS     4.199995e+01              42  \n",
      "404    PoW/PoS     1.055185e+09       532000000  \n",
      "1337   PoW/PoS     2.927942e+10    314159265359  \n",
      "BTC        PoW     1.792718e+07        21000000  \n",
      "LTC        PoW     6.303924e+07        84000000  \n"
     ]
    }
   ],
   "source": [
    "# Create a new DataFrame including predicted clusters and cryptocurrencies features.\n",
    "# Concatentate the crypto_df and pcs_df DataFrames on the same columns.\n",
    "#df_concat=pd.concat([df, pcs_df], axis=1)\n",
    "df_concat2=pcs_df.join(df, how=\"inner\")\n",
    "print(df_concat2.shape) # (497, 9)\n",
    "print(df_concat2.head())\n",
    "\n",
    "#  Add a new column, \"CoinName\" to the clustered_df DataFrame that holds the names of the cryptocurrencies. \n",
    "# YOUR CODE HERE\n",
    "\n",
    "#  Add a new column, \"Class\" to the clustered_df DataFrame that holds the predictions.\n",
    "df_concat2[\"Class\"] = kmeanModel.labels_\n",
    "\n",
    "# Print the shape of the clustered_df\n",
    "#print(clustered_df.shape)\n",
    "#clustered_df.head(10)"
   ]
  },
  {
   "cell_type": "code",
   "execution_count": 651,
   "metadata": {},
   "outputs": [
    {
     "data": {
      "text/html": [
       "<div>\n",
       "<style scoped>\n",
       "    .dataframe tbody tr th:only-of-type {\n",
       "        vertical-align: middle;\n",
       "    }\n",
       "\n",
       "    .dataframe tbody tr th {\n",
       "        vertical-align: top;\n",
       "    }\n",
       "\n",
       "    .dataframe thead th {\n",
       "        text-align: right;\n",
       "    }\n",
       "</style>\n",
       "<table border=\"1\" class=\"dataframe\">\n",
       "  <thead>\n",
       "    <tr style=\"text-align: right;\">\n",
       "      <th></th>\n",
       "      <th>PC 1</th>\n",
       "      <th>PC 2</th>\n",
       "      <th>PC 3</th>\n",
       "      <th>CoinName</th>\n",
       "      <th>Algorithm</th>\n",
       "      <th>IsTrading</th>\n",
       "      <th>ProofType</th>\n",
       "      <th>TotalCoinsMined</th>\n",
       "      <th>TotalCoinSupply</th>\n",
       "      <th>Class</th>\n",
       "    </tr>\n",
       "  </thead>\n",
       "  <tbody>\n",
       "    <tr>\n",
       "      <th>42</th>\n",
       "      <td>0.942874</td>\n",
       "      <td>-0.671728</td>\n",
       "      <td>1.507996e-13</td>\n",
       "      <td>42 Coin</td>\n",
       "      <td>Scrypt</td>\n",
       "      <td>True</td>\n",
       "      <td>PoW/PoS</td>\n",
       "      <td>4.199995e+01</td>\n",
       "      <td>42</td>\n",
       "      <td>1</td>\n",
       "    </tr>\n",
       "    <tr>\n",
       "      <th>404</th>\n",
       "      <td>0.942874</td>\n",
       "      <td>-0.671728</td>\n",
       "      <td>1.525089e-13</td>\n",
       "      <td>404Coin</td>\n",
       "      <td>Scrypt</td>\n",
       "      <td>True</td>\n",
       "      <td>PoW/PoS</td>\n",
       "      <td>1.055185e+09</td>\n",
       "      <td>532000000</td>\n",
       "      <td>1</td>\n",
       "    </tr>\n",
       "    <tr>\n",
       "      <th>1337</th>\n",
       "      <td>1.757483</td>\n",
       "      <td>-0.753220</td>\n",
       "      <td>1.661281e-13</td>\n",
       "      <td>EliteCoin</td>\n",
       "      <td>X13</td>\n",
       "      <td>True</td>\n",
       "      <td>PoW/PoS</td>\n",
       "      <td>2.927942e+10</td>\n",
       "      <td>314159265359</td>\n",
       "      <td>1</td>\n",
       "    </tr>\n",
       "    <tr>\n",
       "      <th>BTC</th>\n",
       "      <td>-1.245490</td>\n",
       "      <td>0.230854</td>\n",
       "      <td>-4.966065e-14</td>\n",
       "      <td>Bitcoin</td>\n",
       "      <td>SHA-256</td>\n",
       "      <td>True</td>\n",
       "      <td>PoW</td>\n",
       "      <td>1.792718e+07</td>\n",
       "      <td>21000000</td>\n",
       "      <td>0</td>\n",
       "    </tr>\n",
       "    <tr>\n",
       "      <th>LTC</th>\n",
       "      <td>-1.155742</td>\n",
       "      <td>0.021646</td>\n",
       "      <td>-9.303957e-16</td>\n",
       "      <td>Litecoin</td>\n",
       "      <td>Scrypt</td>\n",
       "      <td>True</td>\n",
       "      <td>PoW</td>\n",
       "      <td>6.303924e+07</td>\n",
       "      <td>84000000</td>\n",
       "      <td>0</td>\n",
       "    </tr>\n",
       "  </tbody>\n",
       "</table>\n",
       "</div>"
      ],
      "text/plain": [
       "          PC 1      PC 2          PC 3   CoinName Algorithm  IsTrading  \\\n",
       "42    0.942874 -0.671728  1.507996e-13    42 Coin    Scrypt       True   \n",
       "404   0.942874 -0.671728  1.525089e-13    404Coin    Scrypt       True   \n",
       "1337  1.757483 -0.753220  1.661281e-13  EliteCoin       X13       True   \n",
       "BTC  -1.245490  0.230854 -4.966065e-14    Bitcoin   SHA-256       True   \n",
       "LTC  -1.155742  0.021646 -9.303957e-16   Litecoin    Scrypt       True   \n",
       "\n",
       "     ProofType  TotalCoinsMined TotalCoinSupply  Class  \n",
       "42     PoW/PoS     4.199995e+01              42      1  \n",
       "404    PoW/PoS     1.055185e+09       532000000      1  \n",
       "1337   PoW/PoS     2.927942e+10    314159265359      1  \n",
       "BTC        PoW     1.792718e+07        21000000      0  \n",
       "LTC        PoW     6.303924e+07        84000000      0  "
      ]
     },
     "execution_count": 651,
     "metadata": {},
     "output_type": "execute_result"
    }
   ],
   "source": [
    "df_concat2.head()"
   ]
  },
  {
   "cell_type": "code",
   "execution_count": 652,
   "metadata": {},
   "outputs": [
    {
     "data": {
      "text/html": [
       "<div>\n",
       "<style scoped>\n",
       "    .dataframe tbody tr th:only-of-type {\n",
       "        vertical-align: middle;\n",
       "    }\n",
       "\n",
       "    .dataframe tbody tr th {\n",
       "        vertical-align: top;\n",
       "    }\n",
       "\n",
       "    .dataframe thead th {\n",
       "        text-align: right;\n",
       "    }\n",
       "</style>\n",
       "<table border=\"1\" class=\"dataframe\">\n",
       "  <thead>\n",
       "    <tr style=\"text-align: right;\">\n",
       "      <th></th>\n",
       "      <th>PC 1</th>\n",
       "      <th>PC 2</th>\n",
       "      <th>PC 3</th>\n",
       "      <th>CoinName</th>\n",
       "      <th>Algorithm</th>\n",
       "      <th>IsTrading</th>\n",
       "      <th>ProofType</th>\n",
       "      <th>TotalCoinsMined</th>\n",
       "      <th>TotalCoinSupply</th>\n",
       "      <th>Class</th>\n",
       "    </tr>\n",
       "  </thead>\n",
       "  <tbody>\n",
       "    <tr>\n",
       "      <th>42</th>\n",
       "      <td>0.942874</td>\n",
       "      <td>-0.671728</td>\n",
       "      <td>1.507996e-13</td>\n",
       "      <td>42 Coin</td>\n",
       "      <td>Scrypt</td>\n",
       "      <td>True</td>\n",
       "      <td>PoW/PoS</td>\n",
       "      <td>4.199995e+01</td>\n",
       "      <td>42</td>\n",
       "      <td>1</td>\n",
       "    </tr>\n",
       "    <tr>\n",
       "      <th>404</th>\n",
       "      <td>0.942874</td>\n",
       "      <td>-0.671728</td>\n",
       "      <td>1.525089e-13</td>\n",
       "      <td>404Coin</td>\n",
       "      <td>Scrypt</td>\n",
       "      <td>True</td>\n",
       "      <td>PoW/PoS</td>\n",
       "      <td>1.055185e+09</td>\n",
       "      <td>532000000</td>\n",
       "      <td>1</td>\n",
       "    </tr>\n",
       "    <tr>\n",
       "      <th>1337</th>\n",
       "      <td>1.757483</td>\n",
       "      <td>-0.753220</td>\n",
       "      <td>1.661281e-13</td>\n",
       "      <td>EliteCoin</td>\n",
       "      <td>X13</td>\n",
       "      <td>True</td>\n",
       "      <td>PoW/PoS</td>\n",
       "      <td>2.927942e+10</td>\n",
       "      <td>314159265359</td>\n",
       "      <td>1</td>\n",
       "    </tr>\n",
       "    <tr>\n",
       "      <th>BTC</th>\n",
       "      <td>-1.245490</td>\n",
       "      <td>0.230854</td>\n",
       "      <td>-4.966065e-14</td>\n",
       "      <td>Bitcoin</td>\n",
       "      <td>SHA-256</td>\n",
       "      <td>True</td>\n",
       "      <td>PoW</td>\n",
       "      <td>1.792718e+07</td>\n",
       "      <td>21000000</td>\n",
       "      <td>0</td>\n",
       "    </tr>\n",
       "    <tr>\n",
       "      <th>LTC</th>\n",
       "      <td>-1.155742</td>\n",
       "      <td>0.021646</td>\n",
       "      <td>-9.303957e-16</td>\n",
       "      <td>Litecoin</td>\n",
       "      <td>Scrypt</td>\n",
       "      <td>True</td>\n",
       "      <td>PoW</td>\n",
       "      <td>6.303924e+07</td>\n",
       "      <td>84000000</td>\n",
       "      <td>0</td>\n",
       "    </tr>\n",
       "  </tbody>\n",
       "</table>\n",
       "</div>"
      ],
      "text/plain": [
       "          PC 1      PC 2          PC 3   CoinName Algorithm  IsTrading  \\\n",
       "42    0.942874 -0.671728  1.507996e-13    42 Coin    Scrypt       True   \n",
       "404   0.942874 -0.671728  1.525089e-13    404Coin    Scrypt       True   \n",
       "1337  1.757483 -0.753220  1.661281e-13  EliteCoin       X13       True   \n",
       "BTC  -1.245490  0.230854 -4.966065e-14    Bitcoin   SHA-256       True   \n",
       "LTC  -1.155742  0.021646 -9.303957e-16   Litecoin    Scrypt       True   \n",
       "\n",
       "     ProofType  TotalCoinsMined TotalCoinSupply  Class  \n",
       "42     PoW/PoS     4.199995e+01              42      1  \n",
       "404    PoW/PoS     1.055185e+09       532000000      1  \n",
       "1337   PoW/PoS     2.927942e+10    314159265359      1  \n",
       "BTC        PoW     1.792718e+07        21000000      0  \n",
       "LTC        PoW     6.303924e+07        84000000      0  "
      ]
     },
     "execution_count": 652,
     "metadata": {},
     "output_type": "execute_result"
    }
   ],
   "source": [
    "# *************** MODULE 2, DELIVERABLE 3, 3rd Requirement ***********************\n",
    "# Creat a new DataFrame is created with the same index as the crypto_df DataFrame \n",
    "# and has the following columns: Algorithm, ProofType, TotalCoinsMined, \n",
    "# TotalCoinSupply, PC 1, PC 2, PC 3, CoinName, and Class\n",
    "# **********************************************************************************\n",
    "\n",
    "\n",
    "clustered_df = df_concat2.copy()\n",
    "clustered_df.head()"
   ]
  },
  {
   "cell_type": "markdown",
   "metadata": {},
   "source": [
    "### Deliverable 4: Visualizing Cryptocurrencies Results\n",
    "\n",
    "#### 3D-Scatter with Clusters"
   ]
  },
  {
   "cell_type": "code",
   "execution_count": 658,
   "metadata": {},
   "outputs": [
    {
     "data": {
      "image/png": "[encoded data removed]",
      "text/plain": [
       "<Figure size 432x288 with 1 Axes>"
      ]
     },
     "metadata": {
      "needs_background": "light"
     },
     "output_type": "display_data"
    }
   ],
   "source": [
    "# Creating a 3D-Scatter with the PCA data and the clusters\n",
    "\n",
    "\n",
    "# *************** MODULE 2, DELIVERABLE 4, 1st Requirement ***********************\n",
    "# Creat a 3-D scatter plot of the clusters\n",
    "# **********************************************************************************\n",
    "\n",
    "\n",
    "from mpl_toolkits.mplot3d import Axes3D\n",
    "import random\n",
    "fig = plt.figure()\n",
    "ax = Axes3D(fig)\n",
    "\n",
    "sequence_containing_x_vals = clustered_df[\"PC 1\"]\n",
    "sequence_containing_y_vals = clustered_df[\"PC 2\"]\n",
    "sequence_containing_z_vals = clustered_df[\"PC 3\"]\n",
    "\n",
    "random.shuffle(sequence_containing_x_vals)\n",
    "random.shuffle(sequence_containing_y_vals)\n",
    "random.shuffle(sequence_containing_z_vals)\n",
    "\n",
    "ax.scatter(sequence_containing_x_vals, sequence_containing_y_vals, sequence_containing_z_vals)\n",
    "plt.show()\n",
    "\n",
    "\n",
    "\n"
   ]
  },
  {
   "cell_type": "code",
   "execution_count": 662,
   "metadata": {},
   "outputs": [
    {
     "data": {
      "text/html": [
       "<div>\n",
       "<style scoped>\n",
       "    .dataframe tbody tr th:only-of-type {\n",
       "        vertical-align: middle;\n",
       "    }\n",
       "\n",
       "    .dataframe tbody tr th {\n",
       "        vertical-align: top;\n",
       "    }\n",
       "\n",
       "    .dataframe thead th {\n",
       "        text-align: right;\n",
       "    }\n",
       "</style>\n",
       "<table border=\"1\" class=\"dataframe\">\n",
       "  <thead>\n",
       "    <tr style=\"text-align: right;\">\n",
       "      <th></th>\n",
       "      <th>CoinName</th>\n",
       "      <th>Algorithm</th>\n",
       "      <th>IsTrading</th>\n",
       "      <th>ProofType</th>\n",
       "      <th>TotalCoinsMined</th>\n",
       "      <th>TotalCoinSupply</th>\n",
       "      <th>Class</th>\n",
       "    </tr>\n",
       "  </thead>\n",
       "  <tbody>\n",
       "    <tr>\n",
       "      <th>0</th>\n",
       "      <td>42 Coin</td>\n",
       "      <td>Scrypt</td>\n",
       "      <td>True</td>\n",
       "      <td>PoW/PoS</td>\n",
       "      <td>4.199995e+01</td>\n",
       "      <td>42</td>\n",
       "      <td>1</td>\n",
       "    </tr>\n",
       "    <tr>\n",
       "      <th>1</th>\n",
       "      <td>404Coin</td>\n",
       "      <td>Scrypt</td>\n",
       "      <td>True</td>\n",
       "      <td>PoW/PoS</td>\n",
       "      <td>1.055185e+09</td>\n",
       "      <td>532000000</td>\n",
       "      <td>1</td>\n",
       "    </tr>\n",
       "    <tr>\n",
       "      <th>2</th>\n",
       "      <td>EliteCoin</td>\n",
       "      <td>X13</td>\n",
       "      <td>True</td>\n",
       "      <td>PoW/PoS</td>\n",
       "      <td>2.927942e+10</td>\n",
       "      <td>314159265359</td>\n",
       "      <td>1</td>\n",
       "    </tr>\n",
       "    <tr>\n",
       "      <th>3</th>\n",
       "      <td>Bitcoin</td>\n",
       "      <td>SHA-256</td>\n",
       "      <td>True</td>\n",
       "      <td>PoW</td>\n",
       "      <td>1.792718e+07</td>\n",
       "      <td>21000000</td>\n",
       "      <td>0</td>\n",
       "    </tr>\n",
       "    <tr>\n",
       "      <th>4</th>\n",
       "      <td>Litecoin</td>\n",
       "      <td>Scrypt</td>\n",
       "      <td>True</td>\n",
       "      <td>PoW</td>\n",
       "      <td>6.303924e+07</td>\n",
       "      <td>84000000</td>\n",
       "      <td>0</td>\n",
       "    </tr>\n",
       "  </tbody>\n",
       "</table>\n",
       "</div>"
      ],
      "text/plain": [
       "    CoinName Algorithm  IsTrading ProofType  TotalCoinsMined TotalCoinSupply  \\\n",
       "0    42 Coin    Scrypt       True   PoW/PoS     4.199995e+01              42   \n",
       "1    404Coin    Scrypt       True   PoW/PoS     1.055185e+09       532000000   \n",
       "2  EliteCoin       X13       True   PoW/PoS     2.927942e+10    314159265359   \n",
       "3    Bitcoin   SHA-256       True       PoW     1.792718e+07        21000000   \n",
       "4   Litecoin    Scrypt       True       PoW     6.303924e+07        84000000   \n",
       "\n",
       "   Class  \n",
       "0      1  \n",
       "1      1  \n",
       "2      1  \n",
       "3      0  \n",
       "4      0  "
      ]
     },
     "execution_count": 662,
     "metadata": {},
     "output_type": "execute_result"
    }
   ],
   "source": [
    "# Create a table with tradable cryptocurrencies.\n",
    "final_table=clustered_df.drop(columns=[\"PC 1\", \"PC 2\", \"PC 3\"])\n",
    "final_table.reset_index(inplace=True, drop=True)\n",
    "final_table.head()\n",
    "\n",
    "# *************** MODULE 2, DELIVERABLE 4, 2nd Requirement ***********************\n",
    "#  Create a table with tradable cryptocurrencies\n",
    "# **********************************************************************************\n",
    " "
   ]
  },
  {
   "cell_type": "code",
   "execution_count": 663,
   "metadata": {},
   "outputs": [
    {
     "name": "stdout",
     "output_type": "stream",
     "text": [
      "497\n"
     ]
    }
   ],
   "source": [
    "# Print the total number of tradable cryptocurrencies.\n",
    "\n",
    "# *************** MODULE 2, DELIVERABLE 4, 3rd Requirement ***********************\n",
    "#  Print the total number of tradable cryptocurrencies.\n",
    "# **********************************************************************************\n",
    "\n",
    "print(len(final_table))"
   ]
  },
  {
   "cell_type": "code",
   "execution_count": 666,
   "metadata": {},
   "outputs": [
    {
     "data": {
      "text/plain": [
       "array([[-0.04490133, -0.04490133, -0.06356417, -0.07792865, -0.04490133,\n",
       "        -0.04490133, -0.06356417, -0.04490133, -0.04490133, -0.1993714 ,\n",
       "        -0.06356417, -0.09007547, -0.04490133, -0.10080973, -0.07792865,\n",
       "        -0.04490133, -0.04490133, -0.15729675, -0.04490133, -0.1279059 ,\n",
       "        -0.04490133, -0.04490133, -0.07792865, -0.04490133, -0.04490133,\n",
       "        -0.04490133, -0.04490133, -0.06356417, -0.04490133, -0.09007547,\n",
       "        -0.09007547, -0.09007547, -0.04490133, -0.11952286, -0.13580362,\n",
       "        -0.14329648, -0.04490133, -0.06356417, -0.04490133, -0.07792865,\n",
       "        -0.1823843 , -0.04490133, -0.04490133, -0.04490133, -0.06356417,\n",
       "        -0.16388869, -0.32696213, -0.04490133, -0.09007547, -0.07792865,\n",
       "        -0.06356417,  1.39313618, -0.04490133, -0.04490133, -0.06356417,\n",
       "        -0.04490133, -0.04490133, -0.04490133, -0.04490133, -0.04490133,\n",
       "        -0.04490133, -0.04490133, -0.04490133, -0.39132116, -0.04490133,\n",
       "        -0.17025131, -0.04490133, -0.09007547, -0.09007547, -0.11054392,\n",
       "        -0.04490133, -0.11952286, -0.04490133, -0.04490133, -0.04490133,\n",
       "        -0.04490133, -0.07792865, -0.43145975, -0.04490133, -0.04490133,\n",
       "        -0.92437958, -0.04490133, -0.04490133,  1.4380199 , -0.04490133,\n",
       "        -0.04490133, -0.04490133, -0.04490133, -0.04490133, -0.04490133,\n",
       "        -0.04490133, -0.04490133, -0.04490133],\n",
       "       [-0.04490133, -0.04490133, -0.06356417, -0.07792865, -0.04490133,\n",
       "        -0.04490133, -0.06356417, -0.04490133, -0.04490133, -0.1993714 ,\n",
       "        -0.06356417, -0.09007547, -0.04490133, -0.10080973, -0.07792865,\n",
       "        -0.04490133, -0.04490133, -0.15729675, -0.04490133, -0.1279059 ,\n",
       "        -0.04490133, -0.04490133, -0.07792865, -0.04490133, -0.04490133,\n",
       "        -0.04490133, -0.04490133, -0.06356417, -0.04490133, -0.09007547,\n",
       "        -0.09007547, -0.09007547, -0.04490133, -0.11952286, -0.13580362,\n",
       "        -0.14329648, -0.04490133, -0.06356417, -0.04490133, -0.07792865,\n",
       "        -0.1823843 , -0.04490133, -0.04490133, -0.04490133, -0.06356417,\n",
       "        -0.16388869, -0.32696213, -0.04490133, -0.09007547, -0.07792865,\n",
       "        -0.06356417,  1.39313618, -0.04490133, -0.04490133, -0.06356417,\n",
       "        -0.04490133, -0.04490133, -0.04490133, -0.04490133, -0.04490133,\n",
       "        -0.04490133, -0.04490133, -0.04490133, -0.39132116, -0.04490133,\n",
       "        -0.17025131, -0.04490133, -0.09007547, -0.09007547, -0.11054392,\n",
       "        -0.04490133, -0.11952286, -0.04490133, -0.04490133, -0.04490133,\n",
       "        -0.04490133, -0.07792865, -0.43145975, -0.04490133, -0.04490133,\n",
       "        -0.92437958, -0.04490133, -0.04490133,  1.4380199 , -0.04490133,\n",
       "        -0.04490133, -0.04490133, -0.04490133, -0.04490133, -0.04490133,\n",
       "        -0.04490133, -0.04490133, -0.04490133],\n",
       "       [-0.04490133, -0.04490133, -0.06356417, -0.07792865, -0.04490133,\n",
       "        -0.04490133, -0.06356417, -0.04490133, -0.04490133, -0.1993714 ,\n",
       "        -0.06356417, -0.09007547, -0.04490133, -0.10080973, -0.07792865,\n",
       "        -0.04490133, -0.04490133, -0.15729675, -0.04490133, -0.1279059 ,\n",
       "        -0.04490133, -0.04490133, -0.07792865, -0.04490133, -0.04490133,\n",
       "        -0.04490133, -0.04490133, -0.06356417, -0.04490133, -0.09007547,\n",
       "        -0.09007547, -0.09007547, -0.04490133, -0.11952286, -0.13580362,\n",
       "        -0.14329648, -0.04490133, -0.06356417, -0.04490133, -0.07792865,\n",
       "        -0.1823843 , -0.04490133, -0.04490133, -0.04490133, -0.06356417,\n",
       "        -0.16388869, -0.32696213, -0.04490133, -0.09007547, -0.07792865,\n",
       "        -0.06356417, -0.71780492, -0.04490133, -0.04490133, -0.06356417,\n",
       "        -0.04490133, -0.04490133, -0.04490133, -0.04490133, -0.04490133,\n",
       "        -0.04490133, -0.04490133, -0.04490133, -0.39132116, -0.04490133,\n",
       "         5.87367006, -0.04490133, -0.09007547, -0.09007547, -0.11054392,\n",
       "        -0.04490133, -0.11952286, -0.04490133, -0.04490133, -0.04490133,\n",
       "        -0.04490133, -0.07792865, -0.43145975, -0.04490133, -0.04490133,\n",
       "        -0.92437958, -0.04490133, -0.04490133,  1.4380199 , -0.04490133,\n",
       "        -0.04490133, -0.04490133, -0.04490133, -0.04490133, -0.04490133,\n",
       "        -0.04490133, -0.04490133, -0.04490133],\n",
       "       [-0.04490133, -0.04490133, -0.06356417, -0.07792865, -0.04490133,\n",
       "        -0.04490133, -0.06356417, -0.04490133, -0.04490133, -0.1993714 ,\n",
       "        -0.06356417, -0.09007547, -0.04490133, -0.10080973, -0.07792865,\n",
       "        -0.04490133, -0.04490133, -0.15729675, -0.04490133, -0.1279059 ,\n",
       "        -0.04490133, -0.04490133, -0.07792865, -0.04490133, -0.04490133,\n",
       "        -0.04490133, -0.04490133, -0.06356417, -0.04490133, -0.09007547,\n",
       "        -0.09007547, -0.09007547, -0.04490133, -0.11952286, -0.13580362,\n",
       "        -0.14329648, -0.04490133, -0.06356417, -0.04490133, -0.07792865,\n",
       "        -0.1823843 , -0.04490133, -0.04490133, -0.04490133, -0.06356417,\n",
       "        -0.16388869,  3.05845822, -0.04490133, -0.09007547, -0.07792865,\n",
       "        -0.06356417, -0.71780492, -0.04490133, -0.04490133, -0.06356417,\n",
       "        -0.04490133, -0.04490133, -0.04490133, -0.04490133, -0.04490133,\n",
       "        -0.04490133, -0.04490133, -0.04490133, -0.39132116, -0.04490133,\n",
       "        -0.17025131, -0.04490133, -0.09007547, -0.09007547, -0.11054392,\n",
       "        -0.04490133, -0.11952286, -0.04490133, -0.04490133, -0.04490133,\n",
       "        -0.04490133, -0.07792865, -0.43145975, -0.04490133, -0.04490133,\n",
       "         1.08180667, -0.04490133, -0.04490133, -0.69540067, -0.04490133,\n",
       "        -0.04490133, -0.04490133, -0.04490133, -0.04490133, -0.04490133,\n",
       "        -0.04490133, -0.04490133, -0.04490133],\n",
       "       [-0.04490133, -0.04490133, -0.06356417, -0.07792865, -0.04490133,\n",
       "        -0.04490133, -0.06356417, -0.04490133, -0.04490133, -0.1993714 ,\n",
       "        -0.06356417, -0.09007547, -0.04490133, -0.10080973, -0.07792865,\n",
       "        -0.04490133, -0.04490133, -0.15729675, -0.04490133, -0.1279059 ,\n",
       "        -0.04490133, -0.04490133, -0.07792865, -0.04490133, -0.04490133,\n",
       "        -0.04490133, -0.04490133, -0.06356417, -0.04490133, -0.09007547,\n",
       "        -0.09007547, -0.09007547, -0.04490133, -0.11952286, -0.13580362,\n",
       "        -0.14329648, -0.04490133, -0.06356417, -0.04490133, -0.07792865,\n",
       "        -0.1823843 , -0.04490133, -0.04490133, -0.04490133, -0.06356417,\n",
       "        -0.16388869, -0.32696213, -0.04490133, -0.09007547, -0.07792865,\n",
       "        -0.06356417,  1.39313618, -0.04490133, -0.04490133, -0.06356417,\n",
       "        -0.04490133, -0.04490133, -0.04490133, -0.04490133, -0.04490133,\n",
       "        -0.04490133, -0.04490133, -0.04490133, -0.39132116, -0.04490133,\n",
       "        -0.17025131, -0.04490133, -0.09007547, -0.09007547, -0.11054392,\n",
       "        -0.04490133, -0.11952286, -0.04490133, -0.04490133, -0.04490133,\n",
       "        -0.04490133, -0.07792865, -0.43145975, -0.04490133, -0.04490133,\n",
       "         1.08180667, -0.04490133, -0.04490133, -0.69540067, -0.04490133,\n",
       "        -0.04490133, -0.04490133, -0.04490133, -0.04490133, -0.04490133,\n",
       "        -0.04490133, -0.04490133, -0.04490133]])"
      ]
     },
     "execution_count": 666,
     "metadata": {},
     "output_type": "execute_result"
    }
   ],
   "source": [
    "# Scaling data to create the scatter plot with tradable cryptocurrencies.\n",
    "df_scaled_x[0:5]"
   ]
  },
  {
   "cell_type": "code",
   "execution_count": 667,
   "metadata": {},
   "outputs": [
    {
     "data": {
      "text/html": [
       "<div>\n",
       "<style scoped>\n",
       "    .dataframe tbody tr th:only-of-type {\n",
       "        vertical-align: middle;\n",
       "    }\n",
       "\n",
       "    .dataframe tbody tr th {\n",
       "        vertical-align: top;\n",
       "    }\n",
       "\n",
       "    .dataframe thead th {\n",
       "        text-align: right;\n",
       "    }\n",
       "</style>\n",
       "<table border=\"1\" class=\"dataframe\">\n",
       "  <thead>\n",
       "    <tr style=\"text-align: right;\">\n",
       "      <th></th>\n",
       "      <th>TotalCoinSupply</th>\n",
       "      <th>TotalCoinsMined</th>\n",
       "    </tr>\n",
       "  </thead>\n",
       "  <tbody>\n",
       "    <tr>\n",
       "      <th>42</th>\n",
       "      <td>-0.158292</td>\n",
       "      <td>-0.111155</td>\n",
       "    </tr>\n",
       "    <tr>\n",
       "      <th>404</th>\n",
       "      <td>-0.150687</td>\n",
       "      <td>-0.088570</td>\n",
       "    </tr>\n",
       "    <tr>\n",
       "      <th>1337</th>\n",
       "      <td>4.332395</td>\n",
       "      <td>0.515537</td>\n",
       "    </tr>\n",
       "    <tr>\n",
       "      <th>BTC</th>\n",
       "      <td>-0.157992</td>\n",
       "      <td>-0.110771</td>\n",
       "    </tr>\n",
       "    <tr>\n",
       "      <th>LTC</th>\n",
       "      <td>-0.157091</td>\n",
       "      <td>-0.109805</td>\n",
       "    </tr>\n",
       "  </tbody>\n",
       "</table>\n",
       "</div>"
      ],
      "text/plain": [
       "      TotalCoinSupply  TotalCoinsMined\n",
       "42          -0.158292        -0.111155\n",
       "404         -0.150687        -0.088570\n",
       "1337         4.332395         0.515537\n",
       "BTC         -0.157992        -0.110771\n",
       "LTC         -0.157091        -0.109805"
      ]
     },
     "execution_count": 667,
     "metadata": {},
     "output_type": "execute_result"
    }
   ],
   "source": [
    "# Create a new DataFrame that has the scaled data with the clustered_df DataFrame index.\n",
    "df_last=df_final.drop(columns=[\"Algorithm\", \"ProofType\"])\n",
    "df_last.head()"
   ]
  },
  {
   "cell_type": "code",
   "execution_count": 670,
   "metadata": {},
   "outputs": [
    {
     "data": {
      "text/html": [
       "<div>\n",
       "<style scoped>\n",
       "    .dataframe tbody tr th:only-of-type {\n",
       "        vertical-align: middle;\n",
       "    }\n",
       "\n",
       "    .dataframe tbody tr th {\n",
       "        vertical-align: top;\n",
       "    }\n",
       "\n",
       "    .dataframe thead th {\n",
       "        text-align: right;\n",
       "    }\n",
       "</style>\n",
       "<table border=\"1\" class=\"dataframe\">\n",
       "  <thead>\n",
       "    <tr style=\"text-align: right;\">\n",
       "      <th></th>\n",
       "      <th>TotalCoinSupply</th>\n",
       "      <th>TotalCoinsMined</th>\n",
       "      <th>CoinName</th>\n",
       "      <th>Class</th>\n",
       "    </tr>\n",
       "  </thead>\n",
       "  <tbody>\n",
       "    <tr>\n",
       "      <th>42</th>\n",
       "      <td>-0.158292</td>\n",
       "      <td>-0.111155</td>\n",
       "      <td>42 Coin</td>\n",
       "      <td>1</td>\n",
       "    </tr>\n",
       "    <tr>\n",
       "      <th>404</th>\n",
       "      <td>-0.150687</td>\n",
       "      <td>-0.088570</td>\n",
       "      <td>404Coin</td>\n",
       "      <td>1</td>\n",
       "    </tr>\n",
       "    <tr>\n",
       "      <th>1337</th>\n",
       "      <td>4.332395</td>\n",
       "      <td>0.515537</td>\n",
       "      <td>EliteCoin</td>\n",
       "      <td>1</td>\n",
       "    </tr>\n",
       "    <tr>\n",
       "      <th>BTC</th>\n",
       "      <td>-0.157992</td>\n",
       "      <td>-0.110771</td>\n",
       "      <td>Bitcoin</td>\n",
       "      <td>0</td>\n",
       "    </tr>\n",
       "    <tr>\n",
       "      <th>LTC</th>\n",
       "      <td>-0.157091</td>\n",
       "      <td>-0.109805</td>\n",
       "      <td>Litecoin</td>\n",
       "      <td>0</td>\n",
       "    </tr>\n",
       "  </tbody>\n",
       "</table>\n",
       "</div>"
      ],
      "text/plain": [
       "      TotalCoinSupply  TotalCoinsMined   CoinName  Class\n",
       "42          -0.158292        -0.111155    42 Coin      1\n",
       "404         -0.150687        -0.088570    404Coin      1\n",
       "1337         4.332395         0.515537  EliteCoin      1\n",
       "BTC         -0.157992        -0.110771    Bitcoin      0\n",
       "LTC         -0.157091        -0.109805   Litecoin      0"
      ]
     },
     "execution_count": 670,
     "metadata": {},
     "output_type": "execute_result"
    }
   ],
   "source": [
    "# Add the \"CoinName\" column from the clustered_df DataFrame to the new DataFrame.\n",
    "# Add the \"Class\" column from the clustered_df DataFrame to the new DataFrame. \n",
    "\n",
    "# *************** MODULE 2, DELIVERABLE 4, 4th Requirement ***********************\n",
    "#  Create a table with tradable cryptocurrencies\n",
    "# **********************************************************************************\n",
    "\n",
    "df_last[\"CoinName\"]=final_table[\"CoinName\"].to_list()\n",
    "df_last[\"Class\"]=final_table[\"Class\"].to_list()\n",
    "df_last.head()\n"
   ]
  },
  {
   "cell_type": "code",
   "execution_count": 672,
   "metadata": {},
   "outputs": [
    {
     "data": {
      "image/png": "[encoded data removed]",
      "text/plain": [
       "<Figure size 432x288 with 1 Axes>"
      ]
     },
     "metadata": {
      "needs_background": "light"
     },
     "output_type": "display_data"
    }
   ],
   "source": [
    "# Create a hvplot.scatter plot using x=\"TotalCoinsMined\" and y=\"TotalCoinSupply\".\n",
    "\n",
    "# *************** MODULE 2, DELIVERABLE 4, 5th Requirement ***********************\n",
    "#  Create a scatter plot is created where the X-axis is \"TotalCoinsMined\",\n",
    "#  the Y-axis is \"TotalCoinSupply\"\n",
    "# **********************************************************************************\n",
    "\n",
    "\n",
    "colors = df_last.Class\n",
    "plt.scatter(df_last.TotalCoinsMined, df_last.TotalCoinSupply, c=colors, alpha=0.5)\n",
    "plt.show()\n"
   ]
  },
  {
   "cell_type": "code",
   "execution_count": null,
   "metadata": {},
   "outputs": [],
   "source": []
  }
 ],
 "metadata": {
  "file_extension": ".py",
  "kernelspec": {
   "display_name": "mlenv",
   "language": "python",
   "name": "mlenv"
  },
  "language_info": {
   "codemirror_mode": {
    "name": "ipython",
    "version": 3
   },
   "file_extension": ".py",
   "mimetype": "text/x-python",
   "name": "python",
   "nbconvert_exporter": "python",
   "pygments_lexer": "ipython3",
   "version": "3.8.8"
  },
  "latex_envs": {
   "LaTeX_envs_menu_present": true,
   "autoclose": false,
   "autocomplete": true,
   "bibliofile": "biblio.bib",
   "cite_by": "apalike",
   "current_citInitial": 1,
   "eqLabelWithNumbers": true,
   "eqNumInitial": 1,
   "hotkeys": {
    "equation": "Ctrl-E",
    "itemize": "Ctrl-I"
   },
   "labels_anchors": false,
   "latex_user_defs": false,
   "report_style_numbering": false,
   "user_envs_cfg": false
  },
  "mimetype": "text/x-python",
  "name": "python",
  "npconvert_exporter": "python",
  "pygments_lexer": "ipython3",
  "version": 3
 },
 "nbformat": 4,
 "nbformat_minor": 4
}
